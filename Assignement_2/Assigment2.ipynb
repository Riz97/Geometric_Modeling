{
 "cells": [
  {
   "cell_type": "code",
   "execution_count": 1,
   "metadata": {
    "scrolled": true
   },
   "outputs": [],
   "source": [
    "import numpy as np\n",
    "import igl\n",
    "import meshplot as mp"
   ]
  },
  {
   "cell_type": "code",
   "execution_count": 2,
   "metadata": {
    "scrolled": true
   },
   "outputs": [],
   "source": [
    "# Utility function to generate a tet grid\n",
    "# n is a 3-tuple with the number of cell in every direction\n",
    "# mmin/mmax are the grid bounding box corners\n",
    "\n",
    "def tet_grid(n, mmin, mmax):\n",
    "    nx = n[0]\n",
    "    ny = n[1]\n",
    "    nz = n[2]\n",
    "    \n",
    "    delta = mmax-mmin\n",
    "    \n",
    "    deltax = delta[0]/(nx-1)\n",
    "    deltay = delta[1]/(ny-1)\n",
    "    deltaz = delta[2]/(nz-1)\n",
    "    \n",
    "    T = np.zeros(((nx-1)*(ny-1)*(nz-1)*6, 4), dtype=np.int64)\n",
    "    V = np.zeros((nx*ny*nz, 3))\n",
    "\n",
    "    mapping = -np.ones((nx, ny, nz), dtype=np.int64)\n",
    "\n",
    "\n",
    "    index = 0\n",
    "    for i in range(nx):\n",
    "        for j in range(ny):\n",
    "            for k in range(nz):\n",
    "                mapping[i, j, k] = index\n",
    "                V[index, :] = [i*deltax, j*deltay, k*deltaz]\n",
    "                index += 1\n",
    "    assert(index == V.shape[0])\n",
    "    \n",
    "    tets = np.array([\n",
    "        [0,1,3,4],\n",
    "        [5,2,6,7],\n",
    "        [4,1,5,3],\n",
    "        [4,3,7,5],\n",
    "        [3,1,5,2],\n",
    "        [2,3,7,5]\n",
    "    ])\n",
    "    \n",
    "    index = 0\n",
    "    for i in range(nx-1):\n",
    "        for j in range(ny-1):\n",
    "            for k in range(nz-1):\n",
    "                indices = [\n",
    "                    (i,   j,   k),\n",
    "                    (i+1, j,   k),\n",
    "                    (i+1, j+1, k),\n",
    "                    (i,   j+1, k),\n",
    "\n",
    "                    (i,   j,   k+1),\n",
    "                    (i+1, j,   k+1),\n",
    "                    (i+1, j+1, k+1),\n",
    "                    (i,   j+1, k+1),\n",
    "                ]\n",
    "                \n",
    "                for t in range(tets.shape[0]):\n",
    "                    tmp = [mapping[indices[ii]] for ii in tets[t, :]]\n",
    "                    T[index, :]=tmp\n",
    "                    index += 1\n",
    "                    \n",
    "    assert(index == T.shape[0])\n",
    "    \n",
    "    V += mmin\n",
    "    return V, T"
   ]
  },
  {
   "cell_type": "markdown",
   "metadata": {},
   "source": [
    "# Reading point cloud"
   ]
  },
  {
   "cell_type": "code",
   "execution_count": 3,
   "metadata": {},
   "outputs": [
    {
     "data": {
      "application/vnd.jupyter.widget-view+json": {
       "model_id": "183bd76f9d32442bbb2301b8b595271d",
       "version_major": 2,
       "version_minor": 0
      },
      "text/plain": [
       "Renderer(camera=PerspectiveCamera(children=(DirectionalLight(color='white', intensity=0.6, position=(5.0, -23.…"
      ]
     },
     "metadata": {},
     "output_type": "display_data"
    },
    {
     "data": {
      "text/plain": [
       "<meshplot.Viewer.Viewer at 0x225b7f829d0>"
      ]
     },
     "execution_count": 3,
     "metadata": {},
     "output_type": "execute_result"
    }
   ],
   "source": [
    "pi, v = igl.read_triangle_mesh(\"data/cat.off\")\n",
    "pi /= 10\n",
    "ni = igl.per_vertex_normals(pi, v)\n",
    "mp.plot(pi, shading={\"point_size\": 8})"
   ]
  },
  {
   "cell_type": "code",
   "execution_count": 4,
   "metadata": {},
   "outputs": [
    {
     "name": "stdout",
     "output_type": "stream",
     "text": [
      "[-0.1 -6.   1. ]\n",
      "-6.0\n",
      "(698, 3)\n"
     ]
    }
   ],
   "source": [
    "print(pi[1])  #Stampa il secondo punto\n",
    "print(pi[1,1]) #Prende il secondo campo del secondo punto\n",
    "print(v.shape)"
   ]
  },
  {
   "cell_type": "markdown",
   "metadata": {},
   "source": [
    "# Setting up  the constraints"
   ]
  },
  {
   "cell_type": "code",
   "execution_count": 5,
   "metadata": {},
   "outputs": [],
   "source": [
    "\n",
    "\n",
    "#Function that retrieves the index of the closest point to 'point' in 'points'\n",
    "#Use KD-Tree algorithm to find the nearest neighbor\n",
    "from scipy.spatial import KDTree \n",
    "tree = KDTree(pi,leafsize = pi.shape[0] +1)  # leafsize is the number of points at which to switch to brute force\n",
    "\n",
    "def find_closed_point(point,points):\n",
    "    dist , ind = tree.query([point],k = 2) #k is the number of neighbors to return , and point is the array of points to query\n",
    "    return ind[0,1] #Each entry gives the list of indices of neighbors of the corresponding point (prende il secondo)"
   ]
  },
  {
   "cell_type": "code",
   "execution_count": 12,
   "metadata": {},
   "outputs": [],
   "source": [
    "# Add here the code to generate the additional points and constraints\n",
    "\n",
    "def Constraints(pi,n):\n",
    "    size = pi.shape[0] #366 points\n",
    "    constrained_pi , constrained_v  = np.zeros((size*3 , 3)) , np.zeros((size*3))\n",
    "    print(constrained_pi)\n",
    "    print(constrained_v)\n",
    "    print(constrained_v.shape)\n",
    "    for i in range(size):\n",
    "        eps = 0.01 * igl.bounding_box_diagonal(pi)# Fix an eps value \n",
    "        #for each point in the point cloud , add a costraint of the form f(pi)= di = o\n",
    "        constrained_pi[i]= pi[i]\n",
    "        constrained_v[i] = 0\n",
    "        #for each point , compute p_i+N = p_i + eps * n_i\n",
    "        #where n_i is the normalized normal at p_i.\n",
    "        constrained[i+size] =  constrained[i] = eps * ni[i]\n",
    "        #Check that p_i is the closest point to p_i+N\n",
    "        #If not , halve eps and recompute p_i+N until this is the case\n",
    "        #Then, add another constraint equation f(p_i+N) = d_i+N = eps\n"
   ]
  },
  {
   "cell_type": "code",
   "execution_count": 13,
   "metadata": {},
   "outputs": [
    {
     "name": "stdout",
     "output_type": "stream",
     "text": [
      "[[0. 0. 0.]\n",
      " [0. 0. 0.]\n",
      " [0. 0. 0.]\n",
      " ...\n",
      " [0. 0. 0.]\n",
      " [0. 0. 0.]\n",
      " [0. 0. 0.]]\n",
      "[0. 0. 0. ... 0. 0. 0.]\n",
      "(1098,)\n"
     ]
    }
   ],
   "source": [
    "Constraints(pi,n= 20)"
   ]
  },
  {
   "cell_type": "markdown",
   "metadata": {},
   "source": [
    "# MLS function"
   ]
  },
  {
   "cell_type": "code",
   "execution_count": null,
   "metadata": {},
   "outputs": [],
   "source": [
    "# This is mockup code, generating the distance field from the surface of the unit sphere in analytic form\n",
    "# The code is provided to show the desired visualization\n",
    "# Use tet_grid to generate the grid appropriate to your data\n",
    "# Generate function fx at all nodes of the grid by evaluating the MLS function"
   ]
  },
  {
   "cell_type": "code",
   "execution_count": null,
   "metadata": {
    "scrolled": true
   },
   "outputs": [],
   "source": [
    "# Parameters\n",
    "bbox_min = np.array([-1., -1., -1.])\n",
    "bbox_max = np.array([1., 1., 1.])\n",
    "bbox_diag = np.linalg.norm(bbox_max - bbox_min)\n",
    "\n",
    "n = 10"
   ]
  },
  {
   "cell_type": "code",
   "execution_count": null,
   "metadata": {
    "scrolled": true
   },
   "outputs": [],
   "source": [
    "# Generate grid n x n x n\n",
    "\n",
    "x, T = tet_grid((n, n, n), bbox_min - 0.05 * bbox_diag, bbox_max + 0.05 * bbox_diag)\n",
    "\n",
    "#Compute implicit sphere function\n",
    "center = np.array([0., 0., 0.])\n",
    "radius = 1\n",
    "fx = np.linalg.norm(x-center, axis=1) - radius"
   ]
  },
  {
   "cell_type": "code",
   "execution_count": null,
   "metadata": {},
   "outputs": [],
   "source": [
    "# Treshold fx to visualize inside outside\n",
    "\n",
    "ind = np.zeros_like(fx)\n",
    "ind[fx >= 0] = 1\n",
    "ind[fx < 0] = -1\n",
    "mp.plot(x, c=ind, shading={\"point_size\": 0.1,\"width\": 800, \"height\": 800})"
   ]
  },
  {
   "cell_type": "markdown",
   "metadata": {},
   "source": [
    "# Marching to extract surface"
   ]
  },
  {
   "cell_type": "code",
   "execution_count": null,
   "metadata": {},
   "outputs": [],
   "source": [
    "# Marcing tet to extract surface\n",
    "\n",
    "sv, sf, _, _ = igl.marching_tets(x, T, fx, 0)\n",
    "mp.plot(sv, sf, shading={\"wireframe\": True})"
   ]
  },
  {
   "cell_type": "code",
   "execution_count": null,
   "metadata": {
    "scrolled": true
   },
   "outputs": [],
   "source": []
  }
 ],
 "metadata": {
  "kernelspec": {
   "display_name": "Python 3",
   "language": "python",
   "name": "python3"
  },
  "language_info": {
   "codemirror_mode": {
    "name": "ipython",
    "version": 3
   },
   "file_extension": ".py",
   "mimetype": "text/x-python",
   "name": "python",
   "nbconvert_exporter": "python",
   "pygments_lexer": "ipython3",
   "version": "3.8.8"
  },
  "widgets": {
   "application/vnd.jupyter.widget-state+json": {
    "state": {
     "05f95844f5094225933a4457ca3014a6": {
      "buffers": [
       {
        "data": "AAAAAAAAAAAAAAAAAAAAAAAAAAAAAAAAAAAAAAAAAAAAAAAAAAAAAAAAAAAAAAAAAAAAAAAAAAAAAAAAAAAAAAAAAAAAAAAAAAAAAAAAAAAAAAAAAAAAAAAAAAAAAAAAAAAAAAAAAAAAAAAAAAAAAAAAAAAAAAAAAAAAAAAAAAAAAAAAAAAAAAAAAAAAAAAAAAAAAAAAAAAAAAAAAAAAAAAAAAAAAAAAAAAAAAAAAAAAAAAAAAAAAAAAAAAAAAAAAAAAAAAAAAAAAAAAAAAAAAAAAAAAAAAAAAAAAAAAAAAAAAAAAAAAAAAAAAAAAAAAAAAAAAAAAAAAAAAAAAAAAAAAAAAAAAAAAAAAAAAAAAAAAAAAAAAAAAAAAAAAAAAAAAAAAAAAAAAAAAAAAAAAAAAAAAAAAAAAAAAAAAAAAAAAAAAAAAAAAAAAAAAAAAAAAAAAAAAAAAAAAAAAAAAAAAAAAAAAAAAAAAAAAAAAAAAAAAAAAAAAAAAAAAAAAAAAAAAAAAAAAAAAAAAAAAAAAAAAAAAAAAAAAAAAAAAAAAAAAAAAAAAAAAAAAAAAAAAAAAAAAAAAAAAAAAAAAAAAAAAAAAAAAAAAAAAAAAAAAAAAAAAAAAAAAAAAAAAAAAAAAAAAAAAAAAAAAAAAAAAAAAAAAAAAAAAAAAAAAAAAAAAAAAAAAAAAAAAAAAAAAAAAAAAAAAAAAAAAAAAAAAAAAAAAAAAAAAAAAAAAAAAAAAAAAAAAAAAAAAAAAAAAAAAAAAAAAAAAAAAAAAAAAAAAAAAAAAAAAAAAAAAAAAAAAAAAAAAAAAAAAAAAAAAAAAAAAAAAAAAAAAAAAAAAAAAAAAAAAAAAAAAAAAAAAAAAAAAAAAAAAAAAAAAAAAAAAAAAAAAAAAAAAAAAAAAAAAAAAAAAAAAAAAAAAAAAAAAAAAAAAAAAAAAAAAAAAAAAAAAAAAAAAAAAAAAAAAAAAAAAAAAAAAAAAAAAAAAAAAAAAAAAAAAAAAAAAAAAAAAAAAAAAAAAAAAAAAAAAAAAAAAAAAAAAAAAAAAAAAAAAAAAAAAAAAAAAAAAAAAAAAAAAAAAAAAAAAAAAAAAAAAAAAAAAAAAAAAAAAAAAAAAAAAAAAAAAAAAAAAAAAAAAAAAAAAAAAAAAAAAAAAAAAAAAAAAAAAAAAAAAAAAAAAAAAAAAAAAAAAAAAAAAAAAAAAAAAAAAAAAAAAAAAAAAAAAAAAAAAAAAAAAAAAAAAAAAAAAAAAAAAAAAAAAAAAAAAAAAAAAAAAAAAAAAAAAAAAAAAAAAAAAAAAAAAAAAAAAAAAAAAAAAAAAAAAAAAAAAAAAAAAAAAAAAAAAAAAAAAAAAAAAAAAAAAAAAAAAAAAAAAAAAAAAAAAAAAAAAAAAAAAAAAAAAAAAAAAAAAAAAAAAAAAAAAAAAAAAAAAAAAAAAAAAAAAAAAAAAAAAAAAAAAAAAAAAAAAAAAAAAAAAAAAAAAAAAAAAgD8AAIA/AACAPwAAgD8AAIA/AACAPwAAgD8AAIA/AACAPwAAgD8AAIA/AACAPwAAgD8AAIA/AACAPwAAgD8AAAAAAAAAAAAAAAAAAAAAAAAAAAAAAAAAAAAAAAAAAAAAAAAAAAAAAAAAAAAAAAAAAAAAAAAAAAAAAAAAAAAAAAAAAAAAAAAAAAAAAAAAAAAAAAAAAAAAAAAAAAAAAAAAAAAAAAAAAAAAAAAAAAAAAAAAAAAAAAAAAAAAAAAAAAAAAAAAAAAAAAAAAAAAAAAAAAAAAAAAAAAAAAAAAAAAAAAAAAAAAAAAAAAAAAAAAAAAgD8AAIA/AACAPwAAgD8AAIA/AACAPwAAgD8AAIA/AACAPwAAgD8AAIA/AACAPwAAgD8AAIA/AACAPwAAgD8AAIA/AACAPwAAgD8AAIA/AACAPwAAgD8AAIA/AACAPwAAAAAAAAAAAAAAAAAAAAAAAAAAAAAAAAAAAAAAAAAAAAAAAAAAAAAAAAAAAAAAAAAAAAAAAAAAAAAAAAAAAAAAAAAAAAAAAAAAAAAAAAAAAAAAAAAAAAAAAAAAAAAAAAAAAAAAAAAAAAAAAAAAAAAAAAAAAAAAAAAAAAAAAAAAAAAAAAAAAAAAAAAAAAAAAAAAgD8AAIA/AACAPwAAgD8AAIA/AACAPwAAgD8AAIA/AACAPwAAgD8AAIA/AACAPwAAgD8AAIA/AACAPwAAgD8AAIA/AACAPwAAgD8AAIA/AACAPwAAgD8AAIA/AACAPwAAgD8AAIA/AACAPwAAgD8AAIA/AACAPwAAgD8AAIA/AAAAAAAAAAAAAAAAAAAAAAAAAAAAAAAAAAAAAAAAAAAAAAAAAAAAAAAAAAAAAAAAAAAAAAAAAAAAAAAAAAAAAAAAAAAAAAAAAAAAAAAAAAAAAAAAAAAAAAAAAAAAAAAAAAAAAAAAAAAAAAAAAAAAAAAAAAAAAAAAAAAAAAAAAAAAAIA/AACAPwAAgD8AAIA/AACAPwAAgD8AAIA/AACAPwAAgD8AAIA/AACAPwAAgD8AAIA/AACAPwAAgD8AAIA/AACAPwAAgD8AAIA/AACAPwAAgD8AAIA/AACAPwAAgD8AAIA/AACAPwAAgD8AAIA/AACAPwAAgD8AAIA/AACAPwAAAAAAAAAAAAAAAAAAAAAAAAAAAAAAAAAAAAAAAAAAAAAAAAAAAAAAAAAAAAAAAAAAAAAAAAAAAAAAAAAAAAAAAAAAAAAAAAAAAAAAAAAAAAAAAAAAAAAAAAAAAAAAAAAAAAAAAAAAAAAAAAAAAAAAAAAAAAAAAAAAAAAAAAAAAACAPwAAgD8AAIA/AACAPwAAgD8AAIA/AACAPwAAgD8AAIA/AACAPwAAgD8AAIA/AACAPwAAgD8AAIA/AACAPwAAgD8AAIA/AACAPwAAgD8AAIA/AACAPwAAgD8AAIA/AACAPwAAgD8AAIA/AACAPwAAgD8AAIA/AACAPwAAgD8AAAAAAAAAAAAAAAAAAAAAAAAAAAAAAAAAAAAAAAAAAAAAAAAAAAAAAAAAAAAAAAAAAAAAAAAAAAAAAAAAAAAAAAAAAAAAAAAAAAAAAAAAAAAAAAAAAAAAAAAAAAAAAAAAAAAAAAAAAAAAAAAAAAAAAAAAAAAAAAAAAAAAAAAAAAAAgD8AAIA/AACAPwAAgD8AAIA/AACAPwAAgD8AAIA/AACAPwAAgD8AAIA/AACAPwAAgD8AAIA/AACAPwAAgD8AAIA/AACAPwAAgD8AAIA/AACAPwAAgD8AAIA/AACAPwAAgD8AAIA/AACAPwAAgD8AAIA/AACAPwAAgD8AAIA/AAAAAAAAAAAAAAAAAAAAAAAAAAAAAAAAAAAAAAAAAAAAAAAAAAAAAAAAAAAAAAAAAAAAAAAAAAAAAAAAAAAAAAAAAAAAAAAAAAAAAAAAAAAAAAAAAAAAAAAAAAAAAAAAAAAAAAAAAAAAAAAAAAAAAAAAAAAAAAAAAAAAAAAAAAAAAAAAAAAAAAAAAAAAAAAAAACAPwAAgD8AAIA/AACAPwAAgD8AAIA/AACAPwAAgD8AAIA/AACAPwAAgD8AAIA/AACAPwAAgD8AAIA/AACAPwAAgD8AAIA/AACAPwAAgD8AAIA/AACAPwAAgD8AAIA/AAAAAAAAAAAAAAAAAAAAAAAAAAAAAAAAAAAAAAAAAAAAAAAAAAAAAAAAAAAAAAAAAAAAAAAAAAAAAAAAAAAAAAAAAAAAAAAAAAAAAAAAAAAAAAAAAAAAAAAAAAAAAAAAAAAAAAAAAAAAAAAAAAAAAAAAAAAAAAAAAAAAAAAAAAAAAAAAAAAAAAAAAAAAAAAAAAAAAAAAAAAAAAAAAAAAAAAAAAAAAAAAAAAAAAAAAAAAAIA/AACAPwAAgD8AAIA/AACAPwAAgD8AAIA/AACAPwAAgD8AAIA/AACAPwAAgD8AAIA/AACAPwAAgD8AAIA/AAAAAAAAAAAAAAAAAAAAAAAAAAAAAAAAAAAAAAAAAAAAAAAAAAAAAAAAAAAAAAAAAAAAAAAAAAAAAAAAAAAAAAAAAAAAAAAAAAAAAAAAAAAAAAAAAAAAAAAAAAAAAAAAAAAAAAAAAAAAAAAAAAAAAAAAAAAAAAAAAAAAAAAAAAAAAAAAAAAAAAAAAAAAAAAAAAAAAAAAAAAAAAAAAAAAAAAAAAAAAAAAAAAAAAAAAAAAAAAAAAAAAAAAAAAAAAAAAAAAAAAAAAAAAAAAAAAAAAAAAAAAAAAAAAAAAAAAAAAAAAAAAAAAAAAAAAAAAAAAAAAAAAAAAAAAAAAAAAAAAAAAAAAAAAAAAAAAAAAAAAAAAAAAAAAAAAAAAAAAAAAAAAAAAAAAAAAAAAAAAAAAAAAAAAAAAAAAAAAAAAAAAAAAAAAAAAAAAAAAAAAAAAAAAAAAAAAAAAAAAAAAAAAAAAAAAAAAAAAAAAAAAAAAAAAAAAAAAAAAAAAAAAAAAAAAAAAAAAAAAAAAAAAAAAAAAAAAAAAAAAAAAAAAAAAAAAAAAAAAAAAAAAAAAAAAAAAAAAAAAAAAAAAAAAAAAAAAAAAAAAAAAAAAAAAAAAAAAAAAAAAAAAAAAAAAAAAAAAAAAAAAAAAAAAAAAAAAAAAAAAAAAAAAAAAAAAAAAAAAAAAAAAAAAAAAAAAAAAAAAAAAAAAAAAAAAAAAAAAAAAAAAAAAAAAAAAAAAAAAAAAAAAAAAAAAAAAAAAAAAAAAAAAAAAAAAAAAAAAAAAAAAAAAAAAAAAAAAAAAAAAAAAAAAAAAAAAAAAAAAAAAAAAAAAAAAAAAAAAAAAAAAAAAAAAAAAAAAAAAAAAAAAAAAAAAAAAAAAAAAAAAAAAAAAAAAAAAAAAAAAAAAAAAAAAAAAAAAAAAAAAAAAAAAAAAAAAAAAAAAAAAAAAAAAAAAAAAAAAAAAAAAAAAAAAAAAAAAAAAAAAAAAAAAAAAAAAAAAAAAAAAAAAAAAAAAAAAAAAAAAAAAAAAAAAAAAAAAAAAAAAAAAAAAAAAAAAAAAAAAAAAAAAAAAAAAAAAAAAAAAAAAAAAAAAAAAAAAAAAAAAAAAAAAAAAAAAAAAAAAAAAAAAAAAAAAAAAAAAAAAAAAAAAAAAAAAAAAAAAAAAAAAAAAAAAAAAAAAAAAAAAAAAAAAAAAAAAAAAAAAAAAAAAAAAAAAAAAAAAAAAAAAAAAAAAAAAAAAAAAAAAAAAAAAAAAAAAAAAAAAAAAAAAAAAAAAAAAAAAAAAAAAAAAAAAAAAAAAAAAAAAAAAAAAAAAAAAAAAAAAAAAAAAAAAAAAAAAAAAAAAAAAAAAAAAAAAAAAAAAAAAAAAAAAAAAAAAAAAAAAAAAAAAAAAAAAAAAAAAAAAAAAAAAAAAAAAAAAAAAAAAAAAAAAAAAAAAAAAAAAAAAAAAAAAAAAAAAAAAAAAAAAAAAAAAAAAAAAAAAAAAAAAAAAAAAA==",
        "encoding": "base64",
        "path": [
         "data",
         "buffer"
        ]
       }
      ],
      "model_module": "jupyter-threejs",
      "model_module_version": "^2.1.0",
      "model_name": "DataTextureModel",
      "state": {
       "_view_module": null,
       "_view_module_version": "",
       "data": {
        "buffer": {},
        "dtype": "float32",
        "shape": [
         16,
         16,
         4
        ]
       },
       "type": "FloatType",
       "version": 2
      }
     },
     "09a6f1ca-9303-4f58-9d15-b7085ee5d95b": {
      "model_module": "jupyter-threejs",
      "model_module_version": "^2.1.0",
      "model_name": "DirectionalLightShadowModel",
      "state": {
       "camera": "IPY_MODEL_25562268-f17a-46c3-9fff-8a5865e678ca"
      }
     },
     "0e354e3f16584abbb67e59339cb3e361": {
      "model_module": "@jupyter-widgets/base",
      "model_module_version": "1.2.0",
      "model_name": "LayoutModel",
      "state": {}
     },
     "103c925d-f822-4d02-96bf-e7e0efca10dc": {
      "model_module": "jupyter-threejs",
      "model_module_version": "^2.1.0",
      "model_name": "DirectionalLightShadowModel",
      "state": {
       "camera": "IPY_MODEL_a43dc1c6-e12e-40a0-ae46-b94acc80e87a"
      }
     },
     "114a188856a74079b123a02e8177a57c": {
      "model_module": "jupyter-threejs",
      "model_module_version": "^2.1.0",
      "model_name": "SceneModel",
      "state": {
       "_view_module": null,
       "_view_module_version": "",
       "children": [
        "IPY_MODEL_3bc98f6a02cb4862a032683c7b1fe734",
        "IPY_MODEL_c6854c1bf2c8467c83e77130374a4505",
        "IPY_MODEL_717ca291208640bbaf344ee71e4144fb"
       ]
      }
     },
     "1ab25f4a04ee4e8f95ae3a1647c09c74": {
      "model_module": "jupyter-threejs",
      "model_module_version": "^2.1.0",
      "model_name": "LineSegmentsModel",
      "state": {
       "_view_module": null,
       "_view_module_version": "",
       "geometry": "IPY_MODEL_bb0a377195f745feb8ed617f514b87c8",
       "material": "IPY_MODEL_cfdbeae49d4148c58e7f1fee0576ff81"
      }
     },
     "1b1fb1f05d30427f914de55e85864b5e": {
      "model_module": "jupyter-threejs",
      "model_module_version": "^2.1.0",
      "model_name": "BufferGeometryModel",
      "state": {
       "_view_module": null,
       "_view_module_version": "",
       "attributes": {
        "color": "IPY_MODEL_d3dea195ec934b3882e1d50d05f8a201",
        "position": "IPY_MODEL_3fb43269775f48698b3ea812494cf85b"
       }
      }
     },
     "25562268-f17a-46c3-9fff-8a5865e678ca": {
      "model_module": "jupyter-threejs",
      "model_module_version": "^2.1.0",
      "model_name": "OrthographicCameraModel",
      "state": {
       "bottom": -5,
       "far": 500,
       "left": -5,
       "near": 0.5,
       "projectionMatrix": [
        0.2,
        0,
        0,
        0,
        0,
        0.2,
        0,
        0,
        0,
        0,
        -0.004004004004004004,
        0,
        0,
        0,
        -1.002002002002002,
        1
       ],
       "right": 5,
       "top": 5
      }
     },
     "294076f877b54abeba7014941a271b96": {
      "model_module": "jupyter-threejs",
      "model_module_version": "^2.1.0",
      "model_name": "PerspectiveCameraModel",
      "state": {
       "_view_module": null,
       "_view_module_version": "",
       "children": [
        "IPY_MODEL_6f5d9b98384f4556b00a9d3272a59c62"
       ],
       "focus": 5.106005588526117,
       "fov": 30,
       "matrix": [
        1,
        0,
        0,
        0,
        0,
        1,
        -6.123233995736766e-17,
        0,
        0,
        6.123233995736766e-17,
        1,
        0,
        0,
        3.1265267002085036e-16,
        5.106005588526117,
        1
       ],
       "matrixWorld": [
        1,
        0,
        0,
        0,
        0,
        1,
        -6.123233995736766e-17,
        0,
        0,
        6.123233995736766e-17,
        1,
        0,
        0,
        3.1265267002085036e-16,
        5.106005588526117,
        1
       ],
       "matrixWorldInverse": [
        1,
        0,
        0,
        0,
        0,
        1,
        6.123233995736766e-17,
        0,
        0,
        -6.123233995736766e-17,
        1,
        0,
        0,
        0,
        -5.106005588526117,
        1
       ],
       "position": [
        -1.8384694334104352,
        3.5416834843642913,
        1.8003622837933373
       ],
       "projectionMatrix": [
        3.7320508075688776,
        0,
        0,
        0,
        0,
        3.7320508075688776,
        0,
        0,
        0,
        0,
        -1.00010000500025,
        -1,
        0,
        0,
        -0.200010000500025,
        0
       ],
       "quaternion": [
        -0.4185171128811365,
        -0.34527891575350533,
        -0.1759283947502536,
        0.8213860824742045
       ],
       "rotation": [
        -6.123233995736766e-17,
        0,
        0,
        "XYZ"
       ]
      }
     },
     "2e478e0f-770a-4007-b457-ce9785da8252": {
      "model_module": "jupyter-threejs",
      "model_module_version": "^2.1.0",
      "model_name": "OrthographicCameraModel",
      "state": {
       "bottom": -5,
       "far": 500,
       "left": -5,
       "near": 0.5,
       "projectionMatrix": [
        0.2,
        0,
        0,
        0,
        0,
        0.2,
        0,
        0,
        0,
        0,
        -0.004004004004004004,
        0,
        0,
        0,
        -1.002002002002002,
        1
       ],
       "right": 5,
       "top": 5
      }
     },
     "3a59d465a10840ea9e95cb0ec6a0ab8b": {
      "model_module": "@jupyter-widgets/base",
      "model_module_version": "1.2.0",
      "model_name": "LayoutModel",
      "state": {}
     },
     "3bc98f6a02cb4862a032683c7b1fe734": {
      "model_module": "jupyter-threejs",
      "model_module_version": "^2.1.0",
      "model_name": "PerspectiveCameraModel",
      "state": {
       "_view_module": null,
       "_view_module_version": "",
       "children": [
        "IPY_MODEL_7d94319f43c64b63a237bc94eed49d38"
       ],
       "focus": 6.096152716268042,
       "fov": 30,
       "matrix": [
        1,
        0,
        0,
        0,
        0,
        1,
        -6.123233995736766e-17,
        0,
        0,
        6.123233995736766e-17,
        1,
        0,
        0,
        3.7328169555455503e-16,
        6.096152716268042,
        1
       ],
       "matrixWorld": [
        1,
        0,
        0,
        0,
        0,
        1,
        -6.123233995736766e-17,
        0,
        0,
        6.123233995736766e-17,
        1,
        0,
        0,
        3.7328169555455503e-16,
        6.096152716268042,
        1
       ],
       "matrixWorldInverse": [
        1,
        0,
        0,
        0,
        0,
        1,
        6.123233995736766e-17,
        0,
        0,
        -6.123233995736766e-17,
        1,
        0,
        0,
        0,
        -6.096152716268042,
        1
       ],
       "position": [
        -6.396607536458665,
        9.183273942087644e-15,
        7.255527040681485
       ],
       "projectionMatrix": [
        3.7320508075688776,
        0,
        0,
        0,
        0,
        3.7320508075688776,
        0,
        0,
        0,
        0,
        -1.00010000500025,
        -1,
        0,
        0,
        -0.200010000500025,
        0
       ],
       "quaternion": [
        -4.440603139636258e-16,
        -0.3534748437792571,
        -1.6779640997613907e-16,
        0.9354440308298674
       ],
       "rotation": [
        -6.123233995736766e-17,
        0,
        0,
        "XYZ"
       ]
      }
     },
     "3fb43269775f48698b3ea812494cf85b": {
      "buffers": [
       {
        "data": "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",
        "encoding": "base64",
        "path": [
         "array",
         "buffer"
        ]
       }
      ],
      "model_module": "jupyter-threejs",
      "model_module_version": "^2.1.0",
      "model_name": "BufferAttributeModel",
      "state": {
       "_view_module": null,
       "_view_module_version": "",
       "array": {
        "buffer": {},
        "dtype": "float32",
        "shape": [
         1000,
         3
        ]
       },
       "version": 2
      }
     },
     "4087d265b7d04bf5908bd92387956db9": {
      "model_module": "jupyter-threejs",
      "model_module_version": "^2.1.0",
      "model_name": "AmbientLightModel",
      "state": {
       "_view_module": null,
       "_view_module_version": "",
       "intensity": 0.5
      }
     },
     "416c1670-c5f3-460e-8bc9-118be965613b": {
      "model_module": "jupyter-threejs",
      "model_module_version": "^2.1.0",
      "model_name": "Object3DModel",
      "state": {}
     },
     "41c6256715dd4d39a516e9840f8092e1": {
      "model_module": "jupyter-threejs",
      "model_module_version": "^2.1.0",
      "model_name": "OrbitControlsModel",
      "state": {
       "_view_module": null,
       "_view_module_version": "",
       "controlling": "IPY_MODEL_c5656bec9ad84438af25b6761a9f6d60",
       "maxAzimuthAngle": "inf",
       "maxDistance": "inf",
       "maxZoom": "inf",
       "minAzimuthAngle": "-inf",
       "target": [
        5,
        -23.5,
        -46.59999990463257
       ]
      }
     },
     "5895bda08b664c0ab6ee8197a3f79f6d": {
      "model_module": "jupyter-threejs",
      "model_module_version": "^2.1.0",
      "model_name": "WebGLShadowMapModel",
      "state": {
       "_view_module": null,
       "_view_module_version": ""
      }
     },
     "5d4621565f2e4281904b3007a6e01e35": {
      "model_module": "jupyter-threejs",
      "model_module_version": "^2.1.0",
      "model_name": "RendererModel",
      "state": {
       "_antialias": true,
       "_height": 800,
       "_webgl_version": 2,
       "_width": 800,
       "camera": "IPY_MODEL_3bc98f6a02cb4862a032683c7b1fe734",
       "controls": [
        "IPY_MODEL_fde044fbd2534a0b92ff9cae8f2191bb"
       ],
       "layout": "IPY_MODEL_0e354e3f16584abbb67e59339cb3e361",
       "scene": "IPY_MODEL_114a188856a74079b123a02e8177a57c",
       "shadowMap": "IPY_MODEL_e44d399fcf0c4ce7afed9224cf5521d7"
      }
     },
     "68135d40530b4b748bf27016e0cf1227": {
      "buffers": [
       {
        "data": "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",
        "encoding": "base64",
        "path": [
         "array",
         "buffer"
        ]
       }
      ],
      "model_module": "jupyter-threejs",
      "model_module_version": "^2.1.0",
      "model_name": "BufferAttributeModel",
      "state": {
       "_view_module": null,
       "_view_module_version": "",
       "array": {
        "buffer": {},
        "dtype": "float32",
        "shape": [
         366,
         3
        ]
       },
       "version": 2
      }
     },
     "6d282188-9f1c-4573-a097-561a9f4d6168": {
      "model_module": "jupyter-threejs",
      "model_module_version": "^2.1.0",
      "model_name": "Object3DModel",
      "state": {}
     },
     "6e66171e7b1f4526b1fa6c4a6a7311f3": {
      "model_module": "jupyter-threejs",
      "model_module_version": "^2.1.0",
      "model_name": "AmbientLightModel",
      "state": {
       "_view_module": null,
       "_view_module_version": "",
       "intensity": 0.5
      }
     },
     "6f5d9b98384f4556b00a9d3272a59c62": {
      "model_module": "jupyter-threejs",
      "model_module_version": "^2.1.0",
      "model_name": "DirectionalLightModel",
      "state": {
       "_view_module": null,
       "_view_module_version": "",
       "color": "white",
       "intensity": 0.6,
       "matrix": [
        1,
        0,
        0,
        0,
        0,
        1,
        0,
        0,
        0,
        0,
        1,
        0,
        0,
        0,
        5.106005588526117,
        1
       ],
       "position": [
        0,
        0,
        5.106005588526117
       ],
       "shadow": "IPY_MODEL_09a6f1ca-9303-4f58-9d15-b7085ee5d95b",
       "target": "IPY_MODEL_416c1670-c5f3-460e-8bc9-118be965613b"
      }
     },
     "703c51d5512b4e7b9ed19bd4deaf43a7": {
      "model_module": "jupyter-threejs",
      "model_module_version": "^2.1.0",
      "model_name": "RendererModel",
      "state": {
       "_antialias": true,
       "_height": 600,
       "_webgl_version": 2,
       "_width": 600,
       "camera": "IPY_MODEL_c5656bec9ad84438af25b6761a9f6d60",
       "controls": [
        "IPY_MODEL_41c6256715dd4d39a516e9840f8092e1"
       ],
       "layout": "IPY_MODEL_b69127d1ea974e8f9c97e221ae9101b6",
       "scene": "IPY_MODEL_eb7b834042444177bc98cd1275337885",
       "shadowMap": "IPY_MODEL_aa824a96cdef4e4485306d9b870c928c"
      }
     },
     "7044eea698fc48b4a4bdc356cbce1a68": {
      "model_module": "jupyter-threejs",
      "model_module_version": "^2.1.0",
      "model_name": "SceneModel",
      "state": {
       "_view_module": null,
       "_view_module_version": "",
       "children": [
        "IPY_MODEL_294076f877b54abeba7014941a271b96",
        "IPY_MODEL_6e66171e7b1f4526b1fa6c4a6a7311f3",
        "IPY_MODEL_9a702a3a8b3f4e19bfe3eed3333a0172"
       ]
      }
     },
     "717ca291208640bbaf344ee71e4144fb": {
      "model_module": "jupyter-threejs",
      "model_module_version": "^2.1.0",
      "model_name": "PointsModel",
      "state": {
       "_view_module": null,
       "_view_module_version": "",
       "geometry": "IPY_MODEL_1b1fb1f05d30427f914de55e85864b5e",
       "material": "IPY_MODEL_f87952f3afdf4aa9afa7544f26938b23"
      }
     },
     "78d9076cb2404233b73dc486accf95cd": {
      "model_module": "jupyter-threejs",
      "model_module_version": "^2.1.0",
      "model_name": "RendererModel",
      "state": {
       "_antialias": true,
       "_height": 600,
       "_webgl_version": 2,
       "_width": 600,
       "camera": "IPY_MODEL_294076f877b54abeba7014941a271b96",
       "controls": [
        "IPY_MODEL_9f94147be383400fa39f4b9a233bffda"
       ],
       "layout": "IPY_MODEL_3a59d465a10840ea9e95cb0ec6a0ab8b",
       "scene": "IPY_MODEL_7044eea698fc48b4a4bdc356cbce1a68",
       "shadowMap": "IPY_MODEL_5895bda08b664c0ab6ee8197a3f79f6d"
      }
     },
     "7d94319f43c64b63a237bc94eed49d38": {
      "model_module": "jupyter-threejs",
      "model_module_version": "^2.1.0",
      "model_name": "DirectionalLightModel",
      "state": {
       "_view_module": null,
       "_view_module_version": "",
       "color": "white",
       "intensity": 0.6,
       "matrix": [
        1,
        0,
        0,
        0,
        0,
        1,
        0,
        0,
        0,
        0,
        1,
        0,
        0,
        0,
        6.096152716268042,
        1
       ],
       "position": [
        0,
        0,
        6.096152716268042
       ],
       "shadow": "IPY_MODEL_9801208d-dcc6-4acb-a1c3-f4bd1677a515",
       "target": "IPY_MODEL_f64f8987-9fa5-4fd9-925e-abe220e52f0c"
      }
     },
     "94c2bcae32584a6cbc5986f178d1b554": {
      "model_module": "jupyter-threejs",
      "model_module_version": "^2.1.0",
      "model_name": "BufferGeometryModel",
      "state": {
       "_view_module": null,
       "_view_module_version": "",
       "attributes": {
        "position": "IPY_MODEL_68135d40530b4b748bf27016e0cf1227"
       }
      }
     },
     "9801208d-dcc6-4acb-a1c3-f4bd1677a515": {
      "model_module": "jupyter-threejs",
      "model_module_version": "^2.1.0",
      "model_name": "DirectionalLightShadowModel",
      "state": {
       "camera": "IPY_MODEL_2e478e0f-770a-4007-b457-ce9785da8252"
      }
     },
     "9a702a3a8b3f4e19bfe3eed3333a0172": {
      "model_module": "jupyter-threejs",
      "model_module_version": "^2.1.0",
      "model_name": "MeshModel",
      "state": {
       "_view_module": null,
       "_view_module_version": "",
       "children": [
        "IPY_MODEL_1ab25f4a04ee4e8f95ae3a1647c09c74"
       ],
       "geometry": "IPY_MODEL_d5e57bca253f42079de15f20fa6d7f7c",
       "material": "IPY_MODEL_abf8a6e3fc3e400aafaa128d826a7cc7",
       "morphTargetInfluences": []
      }
     },
     "9aea4e96e49c4a24b2f22646b75efaa4": {
      "buffers": [
       {
        "data": "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",
        "encoding": "base64",
        "path": [
         "array",
         "buffer"
        ]
       }
      ],
      "model_module": "jupyter-threejs",
      "model_module_version": "^2.1.0",
      "model_name": "BufferAttributeModel",
      "state": {
       "_view_module": null,
       "_view_module_version": "",
       "array": {
        "buffer": {},
        "dtype": "uint32",
        "shape": [
         4608
        ]
       },
       "version": 2
      }
     },
     "9f94147be383400fa39f4b9a233bffda": {
      "model_module": "jupyter-threejs",
      "model_module_version": "^2.1.0",
      "model_name": "OrbitControlsModel",
      "state": {
       "_view_module": null,
       "_view_module_version": "",
       "controlling": "IPY_MODEL_294076f877b54abeba7014941a271b96",
       "maxAzimuthAngle": "inf",
       "maxDistance": "inf",
       "maxZoom": "inf",
       "minAzimuthAngle": "-inf"
      }
     },
     "a2469329d46c457f8cfe5eaeae1dada8": {
      "buffers": [
       {
        "data": "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",
        "encoding": "base64",
        "path": [
         "array",
         "buffer"
        ]
       }
      ],
      "model_module": "jupyter-threejs",
      "model_module_version": "^2.1.0",
      "model_name": "BufferAttributeModel",
      "state": {
       "_view_module": null,
       "_view_module_version": "",
       "array": {
        "buffer": {},
        "dtype": "float32",
        "shape": [
         770,
         3
        ]
       },
       "normalized": true,
       "version": 2
      }
     },
     "a3e5a06616e4497382a54c8ef6ac79bb": {
      "buffers": [
       {
        "data": "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",
        "encoding": "base64",
        "path": [
         "array",
         "buffer"
        ]
       }
      ],
      "model_module": "jupyter-threejs",
      "model_module_version": "^2.1.0",
      "model_name": "BufferAttributeModel",
      "state": {
       "_view_module": null,
       "_view_module_version": "",
       "array": {
        "buffer": {},
        "dtype": "float32",
        "shape": [
         770,
         3
        ]
       },
       "version": 2
      }
     },
     "a43dc1c6-e12e-40a0-ae46-b94acc80e87a": {
      "model_module": "jupyter-threejs",
      "model_module_version": "^2.1.0",
      "model_name": "OrthographicCameraModel",
      "state": {
       "bottom": -5,
       "far": 500,
       "left": -5,
       "near": 0.5,
       "projectionMatrix": [
        0.2,
        0,
        0,
        0,
        0,
        0.2,
        0,
        0,
        0,
        0,
        -0.004004004004004004,
        0,
        0,
        0,
        -1.002002002002002,
        1
       ],
       "right": 5,
       "top": 5
      }
     },
     "a66d96f2867c4d3a81393e05b1971529": {
      "model_module": "jupyter-threejs",
      "model_module_version": "^2.1.0",
      "model_name": "DirectionalLightModel",
      "state": {
       "_view_module": null,
       "_view_module_version": "",
       "color": "white",
       "intensity": 0.6,
       "matrix": [
        1,
        0,
        0,
        0,
        0,
        1,
        0,
        0,
        0,
        0,
        1,
        0,
        5,
        -23.5,
        168.25299873028334,
        1
       ],
       "position": [
        5,
        -23.5,
        168.25299873028334
       ],
       "shadow": "IPY_MODEL_103c925d-f822-4d02-96bf-e7e0efca10dc",
       "target": "IPY_MODEL_6d282188-9f1c-4573-a097-561a9f4d6168"
      }
     },
     "aa824a96cdef4e4485306d9b870c928c": {
      "model_module": "jupyter-threejs",
      "model_module_version": "^2.1.0",
      "model_name": "WebGLShadowMapModel",
      "state": {
       "_view_module": null,
       "_view_module_version": ""
      }
     },
     "abf8a6e3fc3e400aafaa128d826a7cc7": {
      "model_module": "jupyter-threejs",
      "model_module_version": "^2.1.0",
      "model_name": "MeshStandardMaterialModel",
      "state": {
       "_view_module": null,
       "_view_module_version": "",
       "flatShading": true,
       "metalness": 0.25,
       "polygonOffset": true,
       "polygonOffsetFactor": 1,
       "polygonOffsetUnits": 5,
       "side": "DoubleSide",
       "vertexColors": "VertexColors"
      }
     },
     "b69127d1ea974e8f9c97e221ae9101b6": {
      "model_module": "@jupyter-widgets/base",
      "model_module_version": "1.2.0",
      "model_name": "LayoutModel",
      "state": {}
     },
     "bb0a377195f745feb8ed617f514b87c8": {
      "model_module": "jupyter-threejs",
      "model_module_version": "^2.1.0",
      "model_name": "WireframeGeometryModel",
      "state": {
       "_view_module": null,
       "_view_module_version": "",
       "geometry": "IPY_MODEL_d5e57bca253f42079de15f20fa6d7f7c"
      }
     },
     "c2d9bd1fb90a4a01b91042d5c716b549": {
      "model_module": "jupyter-threejs",
      "model_module_version": "^2.1.0",
      "model_name": "PointsMaterialModel",
      "state": {
       "_view_module": null,
       "_view_module_version": "",
       "alphaTest": 0.5,
       "color": "red",
       "map": "IPY_MODEL_f0fe95897fbe4503bd15b1d01be03c7c",
       "size": 8
      }
     },
     "c5656bec9ad84438af25b6761a9f6d60": {
      "model_module": "jupyter-threejs",
      "model_module_version": "^2.1.0",
      "model_name": "PerspectiveCameraModel",
      "state": {
       "_view_module": null,
       "_view_module_version": "",
       "children": [
        "IPY_MODEL_a66d96f2867c4d3a81393e05b1971529"
       ],
       "focus": 214.8529986349159,
       "fov": 30,
       "matrix": [
        1,
        0,
        0,
        0,
        0,
        1,
        -6.614222191680684e-17,
        0,
        0,
        6.614222191680684e-17,
        1,
        0,
        5,
        -23.499999999999986,
        168.25299873028334,
        1
       ],
       "matrixWorld": [
        1,
        0,
        0,
        0,
        0,
        1,
        -6.614222191680684e-17,
        0,
        0,
        6.614222191680684e-17,
        1,
        0,
        5,
        -23.499999999999986,
        168.25299873028334,
        1
       ],
       "matrixWorldInverse": [
        1,
        0,
        0,
        0,
        0,
        1,
        6.614222191680684e-17,
        0,
        0,
        -6.614222191680684e-17,
        1,
        0,
        -5,
        23.499999999999996,
        -168.25299873028334,
        1
       ],
       "position": [
        15.698922809026868,
        -247.56857306984918,
        -17.83146343444702
       ],
       "projectionMatrix": [
        3.7320508075688776,
        0,
        0,
        0,
        0,
        3.7320508075688776,
        0,
        0,
        0,
        0,
        -1.00010000500025,
        -1,
        0,
        0,
        -0.200010000500025,
        0
       ],
       "quaternion": [
        0.6469858296982491,
        0.13344457764007983,
        -0.11641112469396948,
        0.7416537810296756
       ],
       "rotation": [
        -6.614222191680684e-17,
        0,
        0,
        "XYZ"
       ]
      }
     },
     "c6854c1bf2c8467c83e77130374a4505": {
      "model_module": "jupyter-threejs",
      "model_module_version": "^2.1.0",
      "model_name": "AmbientLightModel",
      "state": {
       "_view_module": null,
       "_view_module_version": "",
       "intensity": 0.5
      }
     },
     "cfdbeae49d4148c58e7f1fee0576ff81": {
      "model_module": "jupyter-threejs",
      "model_module_version": "^2.1.0",
      "model_name": "LineBasicMaterialModel",
      "state": {
       "_view_module": null,
       "_view_module_version": "",
       "color": "black",
       "linewidth": 0.03
      }
     },
     "d3dea195ec934b3882e1d50d05f8a201": {
      "buffers": [
       {
        "data": "gEV+P+j5Zz/1YxM+gEV+P+j5Zz/1YxM+gEV+P+j5Zz/1YxM+gEV+P+j5Zz/1YxM+gEV+P+j5Zz/1YxM+gEV+P+j5Zz/1YxM+gEV+P+j5Zz/1YxM+gEV+P+j5Zz/1YxM+gEV+P+j5Zz/1YxM+gEV+P+j5Zz/1YxM+gEV+P+j5Zz/1YxM+gEV+P+j5Zz/1YxM+gEV+P+j5Zz/1YxM+gEV+P+j5Zz/1YxM+gEV+P+j5Zz/1YxM+gEV+P+j5Zz/1YxM+gEV+P+j5Zz/1YxM+gEV+P+j5Zz/1YxM+gEV+P+j5Zz/1YxM+gEV+P+j5Zz/1YxM+gEV+P+j5Zz/1YxM+gEV+P+j5Zz/1YxM+gEV+P+j5Zz/1YxM+gEV+P+j5Zz/1YxM+gEV+P+j5Zz/1YxM+gEV+P+j5Zz/1YxM+gEV+P+j5Zz/1YxM+gEV+P+j5Zz/1YxM+gEV+P+j5Zz/1YxM+gEV+P+j5Zz/1YxM+gEV+P+j5Zz/1YxM+gEV+P+j5Zz/1YxM+gEV+P+j5Zz/1YxM+gEV+P+j5Zz/1YxM+gEV+P+j5Zz/1YxM+gEV+P+j5Zz/1YxM+gEV+P+j5Zz/1YxM+gEV+P+j5Zz/1YxM+gEV+P+j5Zz/1YxM+gEV+P+j5Zz/1YxM+gEV+P+j5Zz/1YxM+gEV+P+j5Zz/1YxM+gEV+P+j5Zz/1YxM+gEV+P+j5Zz/1YxM+gEV+P+j5Zz/1YxM+gEV+P+j5Zz/1YxM+gEV+P+j5Zz/1YxM+gEV+P+j5Zz/1YxM+gEV+P+j5Zz/1YxM+gEV+P+j5Zz/1YxM+gEV+P+j5Zz/1YxM+gEV+P+j5Zz/1YxM+gEV+P+j5Zz/1YxM+gEV+P+j5Zz/1YxM+gEV+P+j5Zz/1YxM+gEV+P+j5Zz/1YxM+gEV+P+j5Zz/1YxM+gEV+P+j5Zz/1YxM+gEV+P+j5Zz/1YxM+gEV+P+j5Zz/1YxM+gEV+P+j5Zz/1YxM+gEV+P+j5Zz/1YxM+gEV+P+j5Zz/1YxM+gEV+P+j5Zz/1YxM+gEV+P+j5Zz/1YxM+gEV+P+j5Zz/1YxM+gEV+P+j5Zz/1YxM+gEV+P+j5Zz/1YxM+gEV+P+j5Zz/1YxM+gEV+P+j5Zz/1YxM+gEV+P+j5Zz/1YxM+gEV+P+j5Zz/1YxM+gEV+P+j5Zz/1YxM+gEV+P+j5Zz/1YxM+gEV+P+j5Zz/1YxM+gEV+P+j5Zz/1YxM+gEV+P+j5Zz/1YxM+gEV+P+j5Zz/1YxM+gEV+P+j5Zz/1YxM+gEV+P+j5Zz/1YxM+gEV+P+j5Zz/1YxM+gEV+P+j5Zz/1YxM+gEV+P+j5Zz/1YxM+gEV+P+j5Zz/1YxM+gEV+P+j5Zz/1YxM+gEV+P+j5Zz/1YxM+gEV+P+j5Zz/1YxM+gEV+P+j5Zz/1YxM+gEV+P+j5Zz/1YxM+gEV+P+j5Zz/1YxM+gEV+P+j5Zz/1YxM+gEV+P+j5Zz/1YxM+gEV+P+j5Zz/1YxM+gEV+P+j5Zz/1YxM+gEV+P+j5Zz/1YxM+gEV+P+j5Zz/1YxM+gEV+P+j5Zz/1YxM+gEV+P+j5Zz/1YxM+gEV+P+j5Zz/1YxM+gEV+P+j5Zz/1YxM+gEV+P+j5Zz/1YxM+gEV+P+j5Zz/1YxM+gEV+P+j5Zz/1YxM+gEV+P+j5Zz/1YxM+gEV+P+j5Zz/1YxM+gEV+P+j5Zz/1YxM+gEV+P+j5Zz/1YxM+gEV+P+j5Zz/1YxM+gEV+P+j5Zz/1YxM+gEV+P+j5Zz/1YxM+gEV+P+j5Zz/1YxM+gEV+P+j5Zz/1YxM+gEV+P+j5Zz/1YxM+gEV+P+j5Zz/1YxM+gEV+P+j5Zz/1YxM+gEV+P+j5Zz/1YxM+gEV+P+j5Zz/1YxM+gEV+P+j5Zz/1YxM+gEV+P+j5Zz/1YxM+gEV+P+j5Zz/1YxM+gEV+P+j5Zz/1YxM+gEV+P+j5Zz/1YxM+gEV+P+j5Zz/1YxM+gEV+P+j5Zz/1YxM+gEV+P+j5Zz/1YxM+gEV+P+j5Zz/1YxM+gEV+P+j5Zz/1YxM+gEV+P+j5Zz/1YxM+gEV+P+j5Zz/1YxM+gEV+P+j5Zz/1YxM+gEV+P+j5Zz/1YxM+gEV+P+j5Zz/1YxM+gEV+P+j5Zz/1YxM+gEV+P+j5Zz/1YxM+gEV+P+j5Zz/1YxM+gEV+P+j5Zz/1YxM+gEV+P+j5Zz/1YxM+gEV+P+j5Zz/1YxM+gEV+P+j5Zz/1YxM+gEV+P+j5Zz/1YxM+gEV+P+j5Zz/1YxM+gEV+P+j5Zz/1YxM+gEV+P+j5Zz/1YxM+gEV+P+j5Zz/1YxM+wLSIPhO2nzsVqag+wLSIPhO2nzsVqag+gEV+P+j5Zz/1YxM+gEV+P+j5Zz/1YxM+gEV+P+j5Zz/1YxM+gEV+P+j5Zz/1YxM+gEV+P+j5Zz/1YxM+gEV+P+j5Zz/1YxM+gEV+P+j5Zz/1YxM+gEV+P+j5Zz/1YxM+wLSIPhO2nzsVqag+wLSIPhO2nzsVqag+gEV+P+j5Zz/1YxM+gEV+P+j5Zz/1YxM+gEV+P+j5Zz/1YxM+gEV+P+j5Zz/1YxM+gEV+P+j5Zz/1YxM+gEV+P+j5Zz/1YxM+gEV+P+j5Zz/1YxM+gEV+P+j5Zz/1YxM+gEV+P+j5Zz/1YxM+gEV+P+j5Zz/1YxM+gEV+P+j5Zz/1YxM+gEV+P+j5Zz/1YxM+gEV+P+j5Zz/1YxM+gEV+P+j5Zz/1YxM+gEV+P+j5Zz/1YxM+gEV+P+j5Zz/1YxM+gEV+P+j5Zz/1YxM+gEV+P+j5Zz/1YxM+gEV+P+j5Zz/1YxM+gEV+P+j5Zz/1YxM+gEV+P+j5Zz/1YxM+gEV+P+j5Zz/1YxM+gEV+P+j5Zz/1YxM+gEV+P+j5Zz/1YxM+gEV+P+j5Zz/1YxM+gEV+P+j5Zz/1YxM+gEV+P+j5Zz/1YxM+gEV+P+j5Zz/1YxM+gEV+P+j5Zz/1YxM+gEV+P+j5Zz/1YxM+gEV+P+j5Zz/1YxM+gEV+P+j5Zz/1YxM+gEV+P+j5Zz/1YxM+gEV+P+j5Zz/1YxM+gEV+P+j5Zz/1YxM+gEV+P+j5Zz/1YxM+gEV+P+j5Zz/1YxM+gEV+P+j5Zz/1YxM+gEV+P+j5Zz/1YxM+gEV+P+j5Zz/1YxM+gEV+P+j5Zz/1YxM+gEV+P+j5Zz/1YxM+gEV+P+j5Zz/1YxM+gEV+P+j5Zz/1YxM+gEV+P+j5Zz/1YxM+gEV+P+j5Zz/1YxM+gEV+P+j5Zz/1YxM+gEV+P+j5Zz/1YxM+gEV+P+j5Zz/1YxM+gEV+P+j5Zz/1YxM+gEV+P+j5Zz/1YxM+gEV+P+j5Zz/1YxM+gEV+P+j5Zz/1YxM+gEV+P+j5Zz/1YxM+gEV+P+j5Zz/1YxM+gEV+P+j5Zz/1YxM+gEV+P+j5Zz/1YxM+gEV+P+j5Zz/1YxM+gEV+P+j5Zz/1YxM+gEV+P+j5Zz/1YxM+gEV+P+j5Zz/1YxM+gEV+P+j5Zz/1YxM+gEV+P+j5Zz/1YxM+gEV+P+j5Zz/1YxM+gEV+P+j5Zz/1YxM+gEV+P+j5Zz/1YxM+gEV+P+j5Zz/1YxM+gEV+P+j5Zz/1YxM+wLSIPhO2nzsVqag+wLSIPhO2nzsVqag+gEV+P+j5Zz/1YxM+gEV+P+j5Zz/1YxM+gEV+P+j5Zz/1YxM+gEV+P+j5Zz/1YxM+gEV+P+j5Zz/1YxM+gEV+P+j5Zz/1YxM+gEV+P+j5Zz/1YxM+wLSIPhO2nzsVqag+wLSIPhO2nzsVqag+wLSIPhO2nzsVqag+wLSIPhO2nzsVqag+gEV+P+j5Zz/1YxM+gEV+P+j5Zz/1YxM+gEV+P+j5Zz/1YxM+gEV+P+j5Zz/1YxM+gEV+P+j5Zz/1YxM+wLSIPhO2nzsVqag+wLSIPhO2nzsVqag+wLSIPhO2nzsVqag+wLSIPhO2nzsVqag+wLSIPhO2nzsVqag+wLSIPhO2nzsVqag+gEV+P+j5Zz/1YxM+gEV+P+j5Zz/1YxM+gEV+P+j5Zz/1YxM+gEV+P+j5Zz/1YxM+wLSIPhO2nzsVqag+wLSIPhO2nzsVqag+wLSIPhO2nzsVqag+wLSIPhO2nzsVqag+wLSIPhO2nzsVqag+wLSIPhO2nzsVqag+gEV+P+j5Zz/1YxM+gEV+P+j5Zz/1YxM+gEV+P+j5Zz/1YxM+gEV+P+j5Zz/1YxM+gEV+P+j5Zz/1YxM+wLSIPhO2nzsVqag+wLSIPhO2nzsVqag+wLSIPhO2nzsVqag+wLSIPhO2nzsVqag+gEV+P+j5Zz/1YxM+gEV+P+j5Zz/1YxM+gEV+P+j5Zz/1YxM+gEV+P+j5Zz/1YxM+gEV+P+j5Zz/1YxM+gEV+P+j5Zz/1YxM+gEV+P+j5Zz/1YxM+wLSIPhO2nzsVqag+wLSIPhO2nzsVqag+gEV+P+j5Zz/1YxM+gEV+P+j5Zz/1YxM+gEV+P+j5Zz/1YxM+gEV+P+j5Zz/1YxM+gEV+P+j5Zz/1YxM+gEV+P+j5Zz/1YxM+gEV+P+j5Zz/1YxM+gEV+P+j5Zz/1YxM+gEV+P+j5Zz/1YxM+gEV+P+j5Zz/1YxM+gEV+P+j5Zz/1YxM+gEV+P+j5Zz/1YxM+gEV+P+j5Zz/1YxM+gEV+P+j5Zz/1YxM+gEV+P+j5Zz/1YxM+gEV+P+j5Zz/1YxM+gEV+P+j5Zz/1YxM+gEV+P+j5Zz/1YxM+gEV+P+j5Zz/1YxM+gEV+P+j5Zz/1YxM+gEV+P+j5Zz/1YxM+gEV+P+j5Zz/1YxM+gEV+P+j5Zz/1YxM+gEV+P+j5Zz/1YxM+gEV+P+j5Zz/1YxM+gEV+P+j5Zz/1YxM+gEV+P+j5Zz/1YxM+gEV+P+j5Zz/1YxM+gEV+P+j5Zz/1YxM+gEV+P+j5Zz/1YxM+gEV+P+j5Zz/1YxM+gEV+P+j5Zz/1YxM+gEV+P+j5Zz/1YxM+gEV+P+j5Zz/1YxM+gEV+P+j5Zz/1YxM+gEV+P+j5Zz/1YxM+gEV+P+j5Zz/1YxM+gEV+P+j5Zz/1YxM+gEV+P+j5Zz/1YxM+gEV+P+j5Zz/1YxM+gEV+P+j5Zz/1YxM+gEV+P+j5Zz/1YxM+gEV+P+j5Zz/1YxM+gEV+P+j5Zz/1YxM+gEV+P+j5Zz/1YxM+gEV+P+j5Zz/1YxM+gEV+P+j5Zz/1YxM+wLSIPhO2nzsVqag+wLSIPhO2nzsVqag+wLSIPhO2nzsVqag+wLSIPhO2nzsVqag+gEV+P+j5Zz/1YxM+gEV+P+j5Zz/1YxM+gEV+P+j5Zz/1YxM+gEV+P+j5Zz/1YxM+gEV+P+j5Zz/1YxM+wLSIPhO2nzsVqag+wLSIPhO2nzsVqag+wLSIPhO2nzsVqag+wLSIPhO2nzsVqag+wLSIPhO2nzsVqag+wLSIPhO2nzsVqag+gEV+P+j5Zz/1YxM+gEV+P+j5Zz/1YxM+gEV+P+j5Zz/1YxM+gEV+P+j5Zz/1YxM+wLSIPhO2nzsVqag+wLSIPhO2nzsVqag+wLSIPhO2nzsVqag+wLSIPhO2nzsVqag+wLSIPhO2nzsVqag+wLSIPhO2nzsVqag+gEV+P+j5Zz/1YxM+gEV+P+j5Zz/1YxM+gEV+P+j5Zz/1YxM+gEV+P+j5Zz/1YxM+wLSIPhO2nzsVqag+wLSIPhO2nzsVqag+wLSIPhO2nzsVqag+wLSIPhO2nzsVqag+wLSIPhO2nzsVqag+wLSIPhO2nzsVqag+gEV+P+j5Zz/1YxM+gEV+P+j5Zz/1YxM+gEV+P+j5Zz/1YxM+gEV+P+j5Zz/1YxM+wLSIPhO2nzsVqag+wLSIPhO2nzsVqag+wLSIPhO2nzsVqag+wLSIPhO2nzsVqag+wLSIPhO2nzsVqag+wLSIPhO2nzsVqag+gEV+P+j5Zz/1YxM+gEV+P+j5Zz/1YxM+gEV+P+j5Zz/1YxM+gEV+P+j5Zz/1YxM+gEV+P+j5Zz/1YxM+wLSIPhO2nzsVqag+wLSIPhO2nzsVqag+wLSIPhO2nzsVqag+wLSIPhO2nzsVqag+gEV+P+j5Zz/1YxM+gEV+P+j5Zz/1YxM+gEV+P+j5Zz/1YxM+gEV+P+j5Zz/1YxM+gEV+P+j5Zz/1YxM+gEV+P+j5Zz/1YxM+gEV+P+j5Zz/1YxM+gEV+P+j5Zz/1YxM+gEV+P+j5Zz/1YxM+gEV+P+j5Zz/1YxM+gEV+P+j5Zz/1YxM+gEV+P+j5Zz/1YxM+gEV+P+j5Zz/1YxM+gEV+P+j5Zz/1YxM+gEV+P+j5Zz/1YxM+gEV+P+j5Zz/1YxM+gEV+P+j5Zz/1YxM+gEV+P+j5Zz/1YxM+gEV+P+j5Zz/1YxM+gEV+P+j5Zz/1YxM+gEV+P+j5Zz/1YxM+gEV+P+j5Zz/1YxM+gEV+P+j5Zz/1YxM+gEV+P+j5Zz/1YxM+gEV+P+j5Zz/1YxM+gEV+P+j5Zz/1YxM+gEV+P+j5Zz/1YxM+gEV+P+j5Zz/1YxM+gEV+P+j5Zz/1YxM+gEV+P+j5Zz/1YxM+gEV+P+j5Zz/1YxM+gEV+P+j5Zz/1YxM+gEV+P+j5Zz/1YxM+gEV+P+j5Zz/1YxM+gEV+P+j5Zz/1YxM+gEV+P+j5Zz/1YxM+gEV+P+j5Zz/1YxM+wLSIPhO2nzsVqag+wLSIPhO2nzsVqag+gEV+P+j5Zz/1YxM+gEV+P+j5Zz/1YxM+gEV+P+j5Zz/1YxM+gEV+P+j5Zz/1YxM+gEV+P+j5Zz/1YxM+gEV+P+j5Zz/1YxM+wLSIPhO2nzsVqag+wLSIPhO2nzsVqag+wLSIPhO2nzsVqag+wLSIPhO2nzsVqag+wLSIPhO2nzsVqag+wLSIPhO2nzsVqag+gEV+P+j5Zz/1YxM+gEV+P+j5Zz/1YxM+gEV+P+j5Zz/1YxM+gEV+P+j5Zz/1YxM+wLSIPhO2nzsVqag+wLSIPhO2nzsVqag+wLSIPhO2nzsVqag+wLSIPhO2nzsVqag+wLSIPhO2nzsVqag+wLSIPhO2nzsVqag+gEV+P+j5Zz/1YxM+gEV+P+j5Zz/1YxM+gEV+P+j5Zz/1YxM+wLSIPhO2nzsVqag+wLSIPhO2nzsVqag+wLSIPhO2nzsVqag+wLSIPhO2nzsVqag+wLSIPhO2nzsVqag+wLSIPhO2nzsVqag+wLSIPhO2nzsVqag+wLSIPhO2nzsVqag+gEV+P+j5Zz/1YxM+gEV+P+j5Zz/1YxM+wLSIPhO2nzsVqag+wLSIPhO2nzsVqag+wLSIPhO2nzsVqag+wLSIPhO2nzsVqag+wLSIPhO2nzsVqag+wLSIPhO2nzsVqag+wLSIPhO2nzsVqag+wLSIPhO2nzsVqag+gEV+P+j5Zz/1YxM+gEV+P+j5Zz/1YxM+gEV+P+j5Zz/1YxM+wLSIPhO2nzsVqag+wLSIPhO2nzsVqag+wLSIPhO2nzsVqag+wLSIPhO2nzsVqag+wLSIPhO2nzsVqag+wLSIPhO2nzsVqag+gEV+P+j5Zz/1YxM+gEV+P+j5Zz/1YxM+gEV+P+j5Zz/1YxM+gEV+P+j5Zz/1YxM+wLSIPhO2nzsVqag+wLSIPhO2nzsVqag+wLSIPhO2nzsVqag+wLSIPhO2nzsVqag+wLSIPhO2nzsVqag+wLSIPhO2nzsVqag+gEV+P+j5Zz/1YxM+gEV+P+j5Zz/1YxM+gEV+P+j5Zz/1YxM+gEV+P+j5Zz/1YxM+gEV+P+j5Zz/1YxM+gEV+P+j5Zz/1YxM+wLSIPhO2nzsVqag+wLSIPhO2nzsVqag+gEV+P+j5Zz/1YxM+gEV+P+j5Zz/1YxM+gEV+P+j5Zz/1YxM+gEV+P+j5Zz/1YxM+gEV+P+j5Zz/1YxM+gEV+P+j5Zz/1YxM+gEV+P+j5Zz/1YxM+gEV+P+j5Zz/1YxM+gEV+P+j5Zz/1YxM+gEV+P+j5Zz/1YxM+gEV+P+j5Zz/1YxM+gEV+P+j5Zz/1YxM+gEV+P+j5Zz/1YxM+gEV+P+j5Zz/1YxM+gEV+P+j5Zz/1YxM+gEV+P+j5Zz/1YxM+gEV+P+j5Zz/1YxM+gEV+P+j5Zz/1YxM+gEV+P+j5Zz/1YxM+gEV+P+j5Zz/1YxM+gEV+P+j5Zz/1YxM+gEV+P+j5Zz/1YxM+gEV+P+j5Zz/1YxM+gEV+P+j5Zz/1YxM+gEV+P+j5Zz/1YxM+gEV+P+j5Zz/1YxM+gEV+P+j5Zz/1YxM+gEV+P+j5Zz/1YxM+wLSIPhO2nzsVqag+wLSIPhO2nzsVqag+gEV+P+j5Zz/1YxM+gEV+P+j5Zz/1YxM+gEV+P+j5Zz/1YxM+gEV+P+j5Zz/1YxM+gEV+P+j5Zz/1YxM+gEV+P+j5Zz/1YxM+wLSIPhO2nzsVqag+wLSIPhO2nzsVqag+wLSIPhO2nzsVqag+wLSIPhO2nzsVqag+wLSIPhO2nzsVqag+wLSIPhO2nzsVqag+gEV+P+j5Zz/1YxM+gEV+P+j5Zz/1YxM+gEV+P+j5Zz/1YxM+gEV+P+j5Zz/1YxM+wLSIPhO2nzsVqag+wLSIPhO2nzsVqag+wLSIPhO2nzsVqag+wLSIPhO2nzsVqag+wLSIPhO2nzsVqag+wLSIPhO2nzsVqag+gEV+P+j5Zz/1YxM+gEV+P+j5Zz/1YxM+gEV+P+j5Zz/1YxM+wLSIPhO2nzsVqag+wLSIPhO2nzsVqag+wLSIPhO2nzsVqag+wLSIPhO2nzsVqag+wLSIPhO2nzsVqag+wLSIPhO2nzsVqag+wLSIPhO2nzsVqag+wLSIPhO2nzsVqag+gEV+P+j5Zz/1YxM+gEV+P+j5Zz/1YxM+wLSIPhO2nzsVqag+wLSIPhO2nzsVqag+wLSIPhO2nzsVqag+wLSIPhO2nzsVqag+wLSIPhO2nzsVqag+wLSIPhO2nzsVqag+wLSIPhO2nzsVqag+wLSIPhO2nzsVqag+gEV+P+j5Zz/1YxM+gEV+P+j5Zz/1YxM+gEV+P+j5Zz/1YxM+wLSIPhO2nzsVqag+wLSIPhO2nzsVqag+wLSIPhO2nzsVqag+wLSIPhO2nzsVqag+wLSIPhO2nzsVqag+wLSIPhO2nzsVqag+gEV+P+j5Zz/1YxM+gEV+P+j5Zz/1YxM+gEV+P+j5Zz/1YxM+gEV+P+j5Zz/1YxM+wLSIPhO2nzsVqag+wLSIPhO2nzsVqag+wLSIPhO2nzsVqag+wLSIPhO2nzsVqag+wLSIPhO2nzsVqag+wLSIPhO2nzsVqag+gEV+P+j5Zz/1YxM+gEV+P+j5Zz/1YxM+gEV+P+j5Zz/1YxM+gEV+P+j5Zz/1YxM+gEV+P+j5Zz/1YxM+gEV+P+j5Zz/1YxM+wLSIPhO2nzsVqag+wLSIPhO2nzsVqag+gEV+P+j5Zz/1YxM+gEV+P+j5Zz/1YxM+gEV+P+j5Zz/1YxM+gEV+P+j5Zz/1YxM+gEV+P+j5Zz/1YxM+gEV+P+j5Zz/1YxM+gEV+P+j5Zz/1YxM+gEV+P+j5Zz/1YxM+gEV+P+j5Zz/1YxM+gEV+P+j5Zz/1YxM+gEV+P+j5Zz/1YxM+gEV+P+j5Zz/1YxM+gEV+P+j5Zz/1YxM+gEV+P+j5Zz/1YxM+gEV+P+j5Zz/1YxM+gEV+P+j5Zz/1YxM+gEV+P+j5Zz/1YxM+gEV+P+j5Zz/1YxM+gEV+P+j5Zz/1YxM+gEV+P+j5Zz/1YxM+gEV+P+j5Zz/1YxM+gEV+P+j5Zz/1YxM+gEV+P+j5Zz/1YxM+gEV+P+j5Zz/1YxM+gEV+P+j5Zz/1YxM+gEV+P+j5Zz/1YxM+gEV+P+j5Zz/1YxM+gEV+P+j5Zz/1YxM+gEV+P+j5Zz/1YxM+gEV+P+j5Zz/1YxM+gEV+P+j5Zz/1YxM+gEV+P+j5Zz/1YxM+gEV+P+j5Zz/1YxM+gEV+P+j5Zz/1YxM+gEV+P+j5Zz/1YxM+gEV+P+j5Zz/1YxM+gEV+P+j5Zz/1YxM+wLSIPhO2nzsVqag+wLSIPhO2nzsVqag+wLSIPhO2nzsVqag+wLSIPhO2nzsVqag+gEV+P+j5Zz/1YxM+gEV+P+j5Zz/1YxM+gEV+P+j5Zz/1YxM+gEV+P+j5Zz/1YxM+gEV+P+j5Zz/1YxM+wLSIPhO2nzsVqag+wLSIPhO2nzsVqag+wLSIPhO2nzsVqag+wLSIPhO2nzsVqag+wLSIPhO2nzsVqag+wLSIPhO2nzsVqag+gEV+P+j5Zz/1YxM+gEV+P+j5Zz/1YxM+gEV+P+j5Zz/1YxM+gEV+P+j5Zz/1YxM+wLSIPhO2nzsVqag+wLSIPhO2nzsVqag+wLSIPhO2nzsVqag+wLSIPhO2nzsVqag+wLSIPhO2nzsVqag+wLSIPhO2nzsVqag+gEV+P+j5Zz/1YxM+gEV+P+j5Zz/1YxM+gEV+P+j5Zz/1YxM+gEV+P+j5Zz/1YxM+wLSIPhO2nzsVqag+wLSIPhO2nzsVqag+wLSIPhO2nzsVqag+wLSIPhO2nzsVqag+wLSIPhO2nzsVqag+wLSIPhO2nzsVqag+gEV+P+j5Zz/1YxM+gEV+P+j5Zz/1YxM+gEV+P+j5Zz/1YxM+gEV+P+j5Zz/1YxM+wLSIPhO2nzsVqag+wLSIPhO2nzsVqag+wLSIPhO2nzsVqag+wLSIPhO2nzsVqag+wLSIPhO2nzsVqag+wLSIPhO2nzsVqag+gEV+P+j5Zz/1YxM+gEV+P+j5Zz/1YxM+gEV+P+j5Zz/1YxM+gEV+P+j5Zz/1YxM+gEV+P+j5Zz/1YxM+wLSIPhO2nzsVqag+wLSIPhO2nzsVqag+wLSIPhO2nzsVqag+wLSIPhO2nzsVqag+gEV+P+j5Zz/1YxM+gEV+P+j5Zz/1YxM+gEV+P+j5Zz/1YxM+gEV+P+j5Zz/1YxM+gEV+P+j5Zz/1YxM+gEV+P+j5Zz/1YxM+gEV+P+j5Zz/1YxM+gEV+P+j5Zz/1YxM+gEV+P+j5Zz/1YxM+gEV+P+j5Zz/1YxM+gEV+P+j5Zz/1YxM+gEV+P+j5Zz/1YxM+gEV+P+j5Zz/1YxM+gEV+P+j5Zz/1YxM+gEV+P+j5Zz/1YxM+gEV+P+j5Zz/1YxM+gEV+P+j5Zz/1YxM+gEV+P+j5Zz/1YxM+gEV+P+j5Zz/1YxM+gEV+P+j5Zz/1YxM+gEV+P+j5Zz/1YxM+gEV+P+j5Zz/1YxM+gEV+P+j5Zz/1YxM+gEV+P+j5Zz/1YxM+gEV+P+j5Zz/1YxM+gEV+P+j5Zz/1YxM+gEV+P+j5Zz/1YxM+gEV+P+j5Zz/1YxM+gEV+P+j5Zz/1YxM+gEV+P+j5Zz/1YxM+gEV+P+j5Zz/1YxM+gEV+P+j5Zz/1YxM+gEV+P+j5Zz/1YxM+gEV+P+j5Zz/1YxM+gEV+P+j5Zz/1YxM+gEV+P+j5Zz/1YxM+gEV+P+j5Zz/1YxM+gEV+P+j5Zz/1YxM+gEV+P+j5Zz/1YxM+gEV+P+j5Zz/1YxM+gEV+P+j5Zz/1YxM+gEV+P+j5Zz/1YxM+gEV+P+j5Zz/1YxM+gEV+P+j5Zz/1YxM+gEV+P+j5Zz/1YxM+gEV+P+j5Zz/1YxM+gEV+P+j5Zz/1YxM+wLSIPhO2nzsVqag+wLSIPhO2nzsVqag+gEV+P+j5Zz/1YxM+gEV+P+j5Zz/1YxM+gEV+P+j5Zz/1YxM+gEV+P+j5Zz/1YxM+gEV+P+j5Zz/1YxM+gEV+P+j5Zz/1YxM+gEV+P+j5Zz/1YxM+wLSIPhO2nzsVqag+wLSIPhO2nzsVqag+wLSIPhO2nzsVqag+wLSIPhO2nzsVqag+gEV+P+j5Zz/1YxM+gEV+P+j5Zz/1YxM+gEV+P+j5Zz/1YxM+gEV+P+j5Zz/1YxM+gEV+P+j5Zz/1YxM+wLSIPhO2nzsVqag+wLSIPhO2nzsVqag+wLSIPhO2nzsVqag+wLSIPhO2nzsVqag+wLSIPhO2nzsVqag+wLSIPhO2nzsVqag+gEV+P+j5Zz/1YxM+gEV+P+j5Zz/1YxM+gEV+P+j5Zz/1YxM+gEV+P+j5Zz/1YxM+wLSIPhO2nzsVqag+wLSIPhO2nzsVqag+wLSIPhO2nzsVqag+wLSIPhO2nzsVqag+wLSIPhO2nzsVqag+wLSIPhO2nzsVqag+gEV+P+j5Zz/1YxM+gEV+P+j5Zz/1YxM+gEV+P+j5Zz/1YxM+gEV+P+j5Zz/1YxM+gEV+P+j5Zz/1YxM+wLSIPhO2nzsVqag+wLSIPhO2nzsVqag+wLSIPhO2nzsVqag+wLSIPhO2nzsVqag+gEV+P+j5Zz/1YxM+gEV+P+j5Zz/1YxM+gEV+P+j5Zz/1YxM+gEV+P+j5Zz/1YxM+gEV+P+j5Zz/1YxM+gEV+P+j5Zz/1YxM+gEV+P+j5Zz/1YxM+wLSIPhO2nzsVqag+wLSIPhO2nzsVqag+gEV+P+j5Zz/1YxM+gEV+P+j5Zz/1YxM+gEV+P+j5Zz/1YxM+gEV+P+j5Zz/1YxM+gEV+P+j5Zz/1YxM+gEV+P+j5Zz/1YxM+gEV+P+j5Zz/1YxM+gEV+P+j5Zz/1YxM+gEV+P+j5Zz/1YxM+gEV+P+j5Zz/1YxM+gEV+P+j5Zz/1YxM+gEV+P+j5Zz/1YxM+gEV+P+j5Zz/1YxM+gEV+P+j5Zz/1YxM+gEV+P+j5Zz/1YxM+gEV+P+j5Zz/1YxM+gEV+P+j5Zz/1YxM+gEV+P+j5Zz/1YxM+gEV+P+j5Zz/1YxM+gEV+P+j5Zz/1YxM+gEV+P+j5Zz/1YxM+gEV+P+j5Zz/1YxM+gEV+P+j5Zz/1YxM+gEV+P+j5Zz/1YxM+gEV+P+j5Zz/1YxM+gEV+P+j5Zz/1YxM+gEV+P+j5Zz/1YxM+gEV+P+j5Zz/1YxM+gEV+P+j5Zz/1YxM+gEV+P+j5Zz/1YxM+gEV+P+j5Zz/1YxM+gEV+P+j5Zz/1YxM+gEV+P+j5Zz/1YxM+gEV+P+j5Zz/1YxM+gEV+P+j5Zz/1YxM+gEV+P+j5Zz/1YxM+gEV+P+j5Zz/1YxM+gEV+P+j5Zz/1YxM+gEV+P+j5Zz/1YxM+gEV+P+j5Zz/1YxM+gEV+P+j5Zz/1YxM+gEV+P+j5Zz/1YxM+gEV+P+j5Zz/1YxM+gEV+P+j5Zz/1YxM+gEV+P+j5Zz/1YxM+gEV+P+j5Zz/1YxM+gEV+P+j5Zz/1YxM+gEV+P+j5Zz/1YxM+gEV+P+j5Zz/1YxM+gEV+P+j5Zz/1YxM+gEV+P+j5Zz/1YxM+gEV+P+j5Zz/1YxM+gEV+P+j5Zz/1YxM+gEV+P+j5Zz/1YxM+gEV+P+j5Zz/1YxM+gEV+P+j5Zz/1YxM+gEV+P+j5Zz/1YxM+gEV+P+j5Zz/1YxM+gEV+P+j5Zz/1YxM+gEV+P+j5Zz/1YxM+gEV+P+j5Zz/1YxM+gEV+P+j5Zz/1YxM+gEV+P+j5Zz/1YxM+gEV+P+j5Zz/1YxM+gEV+P+j5Zz/1YxM+gEV+P+j5Zz/1YxM+gEV+P+j5Zz/1YxM+gEV+P+j5Zz/1YxM+wLSIPhO2nzsVqag+wLSIPhO2nzsVqag+gEV+P+j5Zz/1YxM+gEV+P+j5Zz/1YxM+gEV+P+j5Zz/1YxM+gEV+P+j5Zz/1YxM+gEV+P+j5Zz/1YxM+gEV+P+j5Zz/1YxM+gEV+P+j5Zz/1YxM+gEV+P+j5Zz/1YxM+wLSIPhO2nzsVqag+wLSIPhO2nzsVqag+gEV+P+j5Zz/1YxM+gEV+P+j5Zz/1YxM+gEV+P+j5Zz/1YxM+gEV+P+j5Zz/1YxM+gEV+P+j5Zz/1YxM+gEV+P+j5Zz/1YxM+gEV+P+j5Zz/1YxM+gEV+P+j5Zz/1YxM+gEV+P+j5Zz/1YxM+gEV+P+j5Zz/1YxM+gEV+P+j5Zz/1YxM+gEV+P+j5Zz/1YxM+gEV+P+j5Zz/1YxM+gEV+P+j5Zz/1YxM+gEV+P+j5Zz/1YxM+gEV+P+j5Zz/1YxM+gEV+P+j5Zz/1YxM+gEV+P+j5Zz/1YxM+gEV+P+j5Zz/1YxM+gEV+P+j5Zz/1YxM+gEV+P+j5Zz/1YxM+gEV+P+j5Zz/1YxM+gEV+P+j5Zz/1YxM+gEV+P+j5Zz/1YxM+gEV+P+j5Zz/1YxM+gEV+P+j5Zz/1YxM+gEV+P+j5Zz/1YxM+gEV+P+j5Zz/1YxM+gEV+P+j5Zz/1YxM+gEV+P+j5Zz/1YxM+gEV+P+j5Zz/1YxM+gEV+P+j5Zz/1YxM+gEV+P+j5Zz/1YxM+gEV+P+j5Zz/1YxM+gEV+P+j5Zz/1YxM+gEV+P+j5Zz/1YxM+gEV+P+j5Zz/1YxM+gEV+P+j5Zz/1YxM+gEV+P+j5Zz/1YxM+gEV+P+j5Zz/1YxM+gEV+P+j5Zz/1YxM+gEV+P+j5Zz/1YxM+gEV+P+j5Zz/1YxM+gEV+P+j5Zz/1YxM+gEV+P+j5Zz/1YxM+gEV+P+j5Zz/1YxM+gEV+P+j5Zz/1YxM+gEV+P+j5Zz/1YxM+gEV+P+j5Zz/1YxM+gEV+P+j5Zz/1YxM+gEV+P+j5Zz/1YxM+gEV+P+j5Zz/1YxM+gEV+P+j5Zz/1YxM+gEV+P+j5Zz/1YxM+gEV+P+j5Zz/1YxM+gEV+P+j5Zz/1YxM+gEV+P+j5Zz/1YxM+gEV+P+j5Zz/1YxM+gEV+P+j5Zz/1YxM+gEV+P+j5Zz/1YxM+gEV+P+j5Zz/1YxM+gEV+P+j5Zz/1YxM+gEV+P+j5Zz/1YxM+gEV+P+j5Zz/1YxM+gEV+P+j5Zz/1YxM+gEV+P+j5Zz/1YxM+gEV+P+j5Zz/1YxM+gEV+P+j5Zz/1YxM+gEV+P+j5Zz/1YxM+gEV+P+j5Zz/1YxM+gEV+P+j5Zz/1YxM+gEV+P+j5Zz/1YxM+gEV+P+j5Zz/1YxM+gEV+P+j5Zz/1YxM+gEV+P+j5Zz/1YxM+gEV+P+j5Zz/1YxM+gEV+P+j5Zz/1YxM+gEV+P+j5Zz/1YxM+gEV+P+j5Zz/1YxM+gEV+P+j5Zz/1YxM+gEV+P+j5Zz/1YxM+gEV+P+j5Zz/1YxM+gEV+P+j5Zz/1YxM+gEV+P+j5Zz/1YxM+gEV+P+j5Zz/1YxM+gEV+P+j5Zz/1YxM+gEV+P+j5Zz/1YxM+gEV+P+j5Zz/1YxM+gEV+P+j5Zz/1YxM+gEV+P+j5Zz/1YxM+gEV+P+j5Zz/1YxM+gEV+P+j5Zz/1YxM+gEV+P+j5Zz/1YxM+gEV+P+j5Zz/1YxM+gEV+P+j5Zz/1YxM+gEV+P+j5Zz/1YxM+gEV+P+j5Zz/1YxM+gEV+P+j5Zz/1YxM+gEV+P+j5Zz/1YxM+gEV+P+j5Zz/1YxM+gEV+P+j5Zz/1YxM+gEV+P+j5Zz/1YxM+gEV+P+j5Zz/1YxM+gEV+P+j5Zz/1YxM+gEV+P+j5Zz/1YxM+gEV+P+j5Zz/1YxM+gEV+P+j5Zz/1YxM+gEV+P+j5Zz/1YxM+gEV+P+j5Zz/1YxM+gEV+P+j5Zz/1YxM+gEV+P+j5Zz/1YxM+gEV+P+j5Zz/1YxM+gEV+P+j5Zz/1YxM+gEV+P+j5Zz/1YxM+gEV+P+j5Zz/1YxM+gEV+P+j5Zz/1YxM+gEV+P+j5Zz/1YxM+gEV+P+j5Zz/1YxM+gEV+P+j5Zz/1YxM+gEV+P+j5Zz/1YxM+gEV+P+j5Zz/1YxM+gEV+P+j5Zz/1YxM+gEV+P+j5Zz/1YxM+gEV+P+j5Zz/1YxM+gEV+P+j5Zz/1YxM+gEV+P+j5Zz/1YxM+gEV+P+j5Zz/1YxM+gEV+P+j5Zz/1YxM+gEV+P+j5Zz/1YxM+gEV+P+j5Zz/1YxM+gEV+P+j5Zz/1YxM+gEV+P+j5Zz/1YxM+gEV+P+j5Zz/1YxM+gEV+P+j5Zz/1YxM+gEV+P+j5Zz/1YxM+gEV+P+j5Zz/1YxM+gEV+P+j5Zz/1YxM+gEV+P+j5Zz/1YxM+gEV+P+j5Zz/1YxM+gEV+P+j5Zz/1YxM+gEV+P+j5Zz/1YxM+gEV+P+j5Zz/1YxM+gEV+P+j5Zz/1YxM+gEV+P+j5Zz/1YxM+",
        "encoding": "base64",
        "path": [
         "array",
         "buffer"
        ]
       }
      ],
      "model_module": "jupyter-threejs",
      "model_module_version": "^2.1.0",
      "model_name": "BufferAttributeModel",
      "state": {
       "_view_module": null,
       "_view_module_version": "",
       "array": {
        "buffer": {},
        "dtype": "float32",
        "shape": [
         1000,
         3
        ]
       },
       "version": 2
      }
     },
     "d5e57bca253f42079de15f20fa6d7f7c": {
      "model_module": "jupyter-threejs",
      "model_module_version": "^2.1.0",
      "model_name": "BufferGeometryModel",
      "state": {
       "_view_module": null,
       "_view_module_version": "",
       "attributes": {
        "color": "IPY_MODEL_a2469329d46c457f8cfe5eaeae1dada8",
        "position": "IPY_MODEL_a3e5a06616e4497382a54c8ef6ac79bb"
       },
       "index": "IPY_MODEL_9aea4e96e49c4a24b2f22646b75efaa4"
      }
     },
     "e44d399fcf0c4ce7afed9224cf5521d7": {
      "model_module": "jupyter-threejs",
      "model_module_version": "^2.1.0",
      "model_name": "WebGLShadowMapModel",
      "state": {
       "_view_module": null,
       "_view_module_version": ""
      }
     },
     "eb7b834042444177bc98cd1275337885": {
      "model_module": "jupyter-threejs",
      "model_module_version": "^2.1.0",
      "model_name": "SceneModel",
      "state": {
       "_view_module": null,
       "_view_module_version": "",
       "children": [
        "IPY_MODEL_c5656bec9ad84438af25b6761a9f6d60",
        "IPY_MODEL_4087d265b7d04bf5908bd92387956db9",
        "IPY_MODEL_f945ee9d61fa4145b44d983064c4715c"
       ]
      }
     },
     "f0fe95897fbe4503bd15b1d01be03c7c": {
      "buffers": [
       {
        "data": "AAAAAAAAAAAAAAAAAAAAAAAAAAAAAAAAAAAAAAAAAAAAAAAAAAAAAAAAAAAAAAAAAAAAAAAAAAAAAAAAAAAAAAAAAAAAAAAAAAAAAAAAAAAAAAAAAAAAAAAAAAAAAAAAAAAAAAAAAAAAAAAAAAAAAAAAAAAAAAAAAAAAAAAAAAAAAAAAAAAAAAAAAAAAAAAAAAAAAAAAAAAAAAAAAAAAAAAAAAAAAAAAAAAAAAAAAAAAAAAAAAAAAAAAAAAAAAAAAAAAAAAAAAAAAAAAAAAAAAAAAAAAAAAAAAAAAAAAAAAAAAAAAAAAAAAAAAAAAAAAAAAAAAAAAAAAAAAAAAAAAAAAAAAAAAAAAAAAAAAAAAAAAAAAAAAAAAAAAAAAAAAAAAAAAAAAAAAAAAAAAAAAAAAAAAAAAAAAAAAAAAAAAAAAAAAAAAAAAAAAAAAAAAAAAAAAAAAAAAAAAAAAAAAAAAAAAAAAAAAAAAAAAAAAAAAAAAAAAAAAAAAAAAAAAAAAAAAAAAAAAAAAAAAAAAAAAAAAAAAAAAAAAAAAAAAAAAAAAAAAAAAAAAAAAAAAAAAAAAAAAAAAAAAAAAAAAAAAAAAAAAAAAAAAAAAAAAAAAAAAAAAAAAAAAAAAAAAAAAAAAAAAAAAAAAAAAAAAAAAAAAAAAAAAAAAAAAAAAAAAAAAAAAAAAAAAAAAAAAAAAAAAAAAAAAAAAAAAAAAAAAAAAAAAAAAAAAAAAAAAAAAAAAAAAAAAAAAAAAAAAAAAAAAAAAAAAAAAAAAAAAAAAAAAAAAAAAAAAAAAAAAAAAAAAAAAAAAAAAAAAAAAAAAAAAAAAAAAAAAAAAAAAAAAAAAAAAAAAAAAAAAAAAAAAAAAAAAAAAAAAAAAAAAAAAAAAAAAAAAAAAAAAAAAAAAAAAAAAAAAAAAAAAAAAAAAAAAAAAAAAAAAAAAAAAAAAAAAAAAAAAAAAAAAAAAAAAAAAAAAAAAAAAAAAAAAAAAAAAAAAAAAAAAAAAAAAAAAAAAAAAAAAAAAAAAAAAAAAAAAAAAAAAAAAAAAAAAAAAAAAAAAAAAAAAAAAAAAAAAAAAAAAAAAAAAAAAAAAAAAAAAAAAAAAAAAAAAAAAAAAAAAAAAAAAAAAAAAAAAAAAAAAAAAAAAAAAAAAAAAAAAAAAAAAAAAAAAAAAAAAAAAAAAAAAAAAAAAAAAAAAAAAAAAAAAAAAAAAAAAAAAAAAAAAAAAAAAAAAAAAAAAAAAAAAAAAAAAAAAAAAAAAAAAAAAAAAAAAAAAAAAAAAAAAAAAAAAAAAAAAAAAAAAAAAAAAAAAAAAAAAAAAAAAAAAAAAAAAAAAAAAAAAAAAAAAAAAAAAAAAAAAAAAAAAAAAAAAAAAAAAAAAAAAAAAAAAAAAAAAAAAAAAAAAAAAAAAAAAAAAAAAAAAAAAAAAAAAAAAAAAAAAAAAAAAAAAAAAAAAAAAAAAAAAAAAAAAAAAAAAAAAAAAAAAAAAAAAgD8AAIA/AACAPwAAgD8AAIA/AACAPwAAgD8AAIA/AACAPwAAgD8AAIA/AACAPwAAgD8AAIA/AACAPwAAgD8AAAAAAAAAAAAAAAAAAAAAAAAAAAAAAAAAAAAAAAAAAAAAAAAAAAAAAAAAAAAAAAAAAAAAAAAAAAAAAAAAAAAAAAAAAAAAAAAAAAAAAAAAAAAAAAAAAAAAAAAAAAAAAAAAAAAAAAAAAAAAAAAAAAAAAAAAAAAAAAAAAAAAAAAAAAAAAAAAAAAAAAAAAAAAAAAAAAAAAAAAAAAAAAAAAAAAAAAAAAAAAAAAAAAAAAAAAAAAgD8AAIA/AACAPwAAgD8AAIA/AACAPwAAgD8AAIA/AACAPwAAgD8AAIA/AACAPwAAgD8AAIA/AACAPwAAgD8AAIA/AACAPwAAgD8AAIA/AACAPwAAgD8AAIA/AACAPwAAAAAAAAAAAAAAAAAAAAAAAAAAAAAAAAAAAAAAAAAAAAAAAAAAAAAAAAAAAAAAAAAAAAAAAAAAAAAAAAAAAAAAAAAAAAAAAAAAAAAAAAAAAAAAAAAAAAAAAAAAAAAAAAAAAAAAAAAAAAAAAAAAAAAAAAAAAAAAAAAAAAAAAAAAAAAAAAAAAAAAAAAAAAAAAAAAgD8AAIA/AACAPwAAgD8AAIA/AACAPwAAgD8AAIA/AACAPwAAgD8AAIA/AACAPwAAgD8AAIA/AACAPwAAgD8AAIA/AACAPwAAgD8AAIA/AACAPwAAgD8AAIA/AACAPwAAgD8AAIA/AACAPwAAgD8AAIA/AACAPwAAgD8AAIA/AAAAAAAAAAAAAAAAAAAAAAAAAAAAAAAAAAAAAAAAAAAAAAAAAAAAAAAAAAAAAAAAAAAAAAAAAAAAAAAAAAAAAAAAAAAAAAAAAAAAAAAAAAAAAAAAAAAAAAAAAAAAAAAAAAAAAAAAAAAAAAAAAAAAAAAAAAAAAAAAAAAAAAAAAAAAAIA/AACAPwAAgD8AAIA/AACAPwAAgD8AAIA/AACAPwAAgD8AAIA/AACAPwAAgD8AAIA/AACAPwAAgD8AAIA/AACAPwAAgD8AAIA/AACAPwAAgD8AAIA/AACAPwAAgD8AAIA/AACAPwAAgD8AAIA/AACAPwAAgD8AAIA/AACAPwAAAAAAAAAAAAAAAAAAAAAAAAAAAAAAAAAAAAAAAAAAAAAAAAAAAAAAAAAAAAAAAAAAAAAAAAAAAAAAAAAAAAAAAAAAAAAAAAAAAAAAAAAAAAAAAAAAAAAAAAAAAAAAAAAAAAAAAAAAAAAAAAAAAAAAAAAAAAAAAAAAAAAAAAAAAACAPwAAgD8AAIA/AACAPwAAgD8AAIA/AACAPwAAgD8AAIA/AACAPwAAgD8AAIA/AACAPwAAgD8AAIA/AACAPwAAgD8AAIA/AACAPwAAgD8AAIA/AACAPwAAgD8AAIA/AACAPwAAgD8AAIA/AACAPwAAgD8AAIA/AACAPwAAgD8AAAAAAAAAAAAAAAAAAAAAAAAAAAAAAAAAAAAAAAAAAAAAAAAAAAAAAAAAAAAAAAAAAAAAAAAAAAAAAAAAAAAAAAAAAAAAAAAAAAAAAAAAAAAAAAAAAAAAAAAAAAAAAAAAAAAAAAAAAAAAAAAAAAAAAAAAAAAAAAAAAAAAAAAAAAAAgD8AAIA/AACAPwAAgD8AAIA/AACAPwAAgD8AAIA/AACAPwAAgD8AAIA/AACAPwAAgD8AAIA/AACAPwAAgD8AAIA/AACAPwAAgD8AAIA/AACAPwAAgD8AAIA/AACAPwAAgD8AAIA/AACAPwAAgD8AAIA/AACAPwAAgD8AAIA/AAAAAAAAAAAAAAAAAAAAAAAAAAAAAAAAAAAAAAAAAAAAAAAAAAAAAAAAAAAAAAAAAAAAAAAAAAAAAAAAAAAAAAAAAAAAAAAAAAAAAAAAAAAAAAAAAAAAAAAAAAAAAAAAAAAAAAAAAAAAAAAAAAAAAAAAAAAAAAAAAAAAAAAAAAAAAAAAAAAAAAAAAAAAAAAAAACAPwAAgD8AAIA/AACAPwAAgD8AAIA/AACAPwAAgD8AAIA/AACAPwAAgD8AAIA/AACAPwAAgD8AAIA/AACAPwAAgD8AAIA/AACAPwAAgD8AAIA/AACAPwAAgD8AAIA/AAAAAAAAAAAAAAAAAAAAAAAAAAAAAAAAAAAAAAAAAAAAAAAAAAAAAAAAAAAAAAAAAAAAAAAAAAAAAAAAAAAAAAAAAAAAAAAAAAAAAAAAAAAAAAAAAAAAAAAAAAAAAAAAAAAAAAAAAAAAAAAAAAAAAAAAAAAAAAAAAAAAAAAAAAAAAAAAAAAAAAAAAAAAAAAAAAAAAAAAAAAAAAAAAAAAAAAAAAAAAAAAAAAAAAAAAAAAAIA/AACAPwAAgD8AAIA/AACAPwAAgD8AAIA/AACAPwAAgD8AAIA/AACAPwAAgD8AAIA/AACAPwAAgD8AAIA/AAAAAAAAAAAAAAAAAAAAAAAAAAAAAAAAAAAAAAAAAAAAAAAAAAAAAAAAAAAAAAAAAAAAAAAAAAAAAAAAAAAAAAAAAAAAAAAAAAAAAAAAAAAAAAAAAAAAAAAAAAAAAAAAAAAAAAAAAAAAAAAAAAAAAAAAAAAAAAAAAAAAAAAAAAAAAAAAAAAAAAAAAAAAAAAAAAAAAAAAAAAAAAAAAAAAAAAAAAAAAAAAAAAAAAAAAAAAAAAAAAAAAAAAAAAAAAAAAAAAAAAAAAAAAAAAAAAAAAAAAAAAAAAAAAAAAAAAAAAAAAAAAAAAAAAAAAAAAAAAAAAAAAAAAAAAAAAAAAAAAAAAAAAAAAAAAAAAAAAAAAAAAAAAAAAAAAAAAAAAAAAAAAAAAAAAAAAAAAAAAAAAAAAAAAAAAAAAAAAAAAAAAAAAAAAAAAAAAAAAAAAAAAAAAAAAAAAAAAAAAAAAAAAAAAAAAAAAAAAAAAAAAAAAAAAAAAAAAAAAAAAAAAAAAAAAAAAAAAAAAAAAAAAAAAAAAAAAAAAAAAAAAAAAAAAAAAAAAAAAAAAAAAAAAAAAAAAAAAAAAAAAAAAAAAAAAAAAAAAAAAAAAAAAAAAAAAAAAAAAAAAAAAAAAAAAAAAAAAAAAAAAAAAAAAAAAAAAAAAAAAAAAAAAAAAAAAAAAAAAAAAAAAAAAAAAAAAAAAAAAAAAAAAAAAAAAAAAAAAAAAAAAAAAAAAAAAAAAAAAAAAAAAAAAAAAAAAAAAAAAAAAAAAAAAAAAAAAAAAAAAAAAAAAAAAAAAAAAAAAAAAAAAAAAAAAAAAAAAAAAAAAAAAAAAAAAAAAAAAAAAAAAAAAAAAAAAAAAAAAAAAAAAAAAAAAAAAAAAAAAAAAAAAAAAAAAAAAAAAAAAAAAAAAAAAAAAAAAAAAAAAAAAAAAAAAAAAAAAAAAAAAAAAAAAAAAAAAAAAAAAAAAAAAAAAAAAAAAAAAAAAAAAAAAAAAAAAAAAAAAAAAAAAAAAAAAAAAAAAAAAAAAAAAAAAAAAAAAAAAAAAAAAAAAAAAAAAAAAAAAAAAAAAAAAAAAAAAAAAAAAAAAAAAAAAAAAAAAAAAAAAAAAAAAAAAAAAAAAAAAAAAAAAAAAAAAAAAAAAAAAAAAAAAAAAAAAAAAAAAAAAAAAAAAAAAAAAAAAAAAAAAAAAAAAAAAAAAAAAAAAAAAAAAAAAAAAAAAAAAAAAAAAAAAAAAAAAAAAAAAAAAAAAAAAAAAAAAAAAAAAAAAAAAAAAAAAAAAAAAAAAAAAAAAAAAAAAAAAAAAAAAAAAAAAAAAAAAAAAAAAAAAAAAAAAAAAAAAAAAAAAAAAAAAAAAAAAAAAAAAAAAAAAAAAAAAAAAAAAAAAAAAAAAAAAAAAAAAAAAAAAAAAAAAAAAAAAAAAAAAAAAAAAAAAAAAAAAAAAAAAAAAAAAAAAAAAAAAAAAAAAAAAAAAAAAAAAAAAAAAAAAAAAAAAAAAA==",
        "encoding": "base64",
        "path": [
         "data",
         "buffer"
        ]
       }
      ],
      "model_module": "jupyter-threejs",
      "model_module_version": "^2.1.0",
      "model_name": "DataTextureModel",
      "state": {
       "_view_module": null,
       "_view_module_version": "",
       "data": {
        "buffer": {},
        "dtype": "float32",
        "shape": [
         16,
         16,
         4
        ]
       },
       "type": "FloatType",
       "version": 2
      }
     },
     "f64f8987-9fa5-4fd9-925e-abe220e52f0c": {
      "model_module": "jupyter-threejs",
      "model_module_version": "^2.1.0",
      "model_name": "Object3DModel",
      "state": {}
     },
     "f87952f3afdf4aa9afa7544f26938b23": {
      "model_module": "jupyter-threejs",
      "model_module_version": "^2.1.0",
      "model_name": "PointsMaterialModel",
      "state": {
       "_view_module": null,
       "_view_module_version": "",
       "alphaTest": 0.5,
       "map": "IPY_MODEL_05f95844f5094225933a4457ca3014a6",
       "size": 0.1,
       "vertexColors": "VertexColors"
      }
     },
     "f945ee9d61fa4145b44d983064c4715c": {
      "model_module": "jupyter-threejs",
      "model_module_version": "^2.1.0",
      "model_name": "PointsModel",
      "state": {
       "_view_module": null,
       "_view_module_version": "",
       "geometry": "IPY_MODEL_94c2bcae32584a6cbc5986f178d1b554",
       "material": "IPY_MODEL_c2d9bd1fb90a4a01b91042d5c716b549"
      }
     },
     "fde044fbd2534a0b92ff9cae8f2191bb": {
      "model_module": "jupyter-threejs",
      "model_module_version": "^2.1.0",
      "model_name": "OrbitControlsModel",
      "state": {
       "_view_module": null,
       "_view_module_version": "",
       "controlling": "IPY_MODEL_3bc98f6a02cb4862a032683c7b1fe734",
       "maxAzimuthAngle": "inf",
       "maxDistance": "inf",
       "maxZoom": "inf",
       "minAzimuthAngle": "-inf"
      }
     }
    },
    "version_major": 2,
    "version_minor": 0
   }
  }
 },
 "nbformat": 4,
 "nbformat_minor": 4
}
