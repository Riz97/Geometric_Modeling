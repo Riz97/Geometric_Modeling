{
 "cells": [
  {
   "cell_type": "code",
   "execution_count": 56,
   "id": "44d85863-485a-4c4e-9576-df96b15eb746",
   "metadata": {},
   "outputs": [],
   "source": [
    "import networkx as nx\n",
    "import math\n",
    "import igl\n",
    "import matplotlib.pyplot as plt\n",
    "import meshplot as mp"
   ]
  },
  {
   "cell_type": "code",
   "execution_count": null,
   "id": "166ae5d4-93c4-4bfb-bd5d-f5426c1b87ff",
   "metadata": {},
   "outputs": [],
   "source": [
    "import igl\n",
    "import numpy as np\n",
    "import networkx as nx\n",
    "\n",
    "def compute_geodesic_distance(vertex1, vertex2):\n",
    "    # Compute geodesic distance between two vertices\n",
    "    # Replace this with your geodesic distance calculation using igl\n",
    "    return np.linalg.norm(vertex1 - vertex2)\n",
    "\n",
    "def build_weighted_graph_from_mesh(mesh_file):\n",
    "    # Load mesh using igl\n",
    "    mesh_vertices, mesh_faces = igl.read_triangle_mesh(mesh_file)\n",
    "\n",
    "    # Initialize weighted graph\n",
    "    weighted_graph = nx.Graph()\n",
    "\n",
    "    # Add nodes for each vertex in the mesh\n",
    "    for vertex in mesh_vertices:\n",
    "        weighted_graph.add_node(tuple(vertex))\n",
    "\n",
    "    # Cycle over the faces of the input mesh\n",
    "    for face in mesh_faces:\n",
    "        v0, v1, v2 = face  # Assuming each face is represented by three vertices\n",
    "\n",
    "        # Add arcs joining each vertex of the face to the other two vertices of the face\n",
    "        v0_coords, v1_coords, v2_coords = mesh_vertices[v0], mesh_vertices[v1], mesh_vertices[v2]\n",
    "        weighted_graph.add_edge(tuple(v0_coords), tuple(v1_coords), weight=compute_geodesic_distance(v0_coords, v1_coords))\n",
    "        weighted_graph.add_edge(tuple(v0_coords), tuple(v2_coords), weight=compute_geodesic_distance(v0_coords, v2_coords))\n",
    "        weighted_graph.add_edge(tuple(v1_coords), tuple(v2_coords), weight=compute_geodesic_distance(v1_coords, v2_coords))\n",
    "\n",
    "        # Find the neighbor face f' opposite to vertex v\n",
    "        for neighbor_face in mesh_faces:\n",
    "            if v0 in neighbor_face and v1 in neighbor_face and v2 in neighbor_face:\n",
    "                continue  # Skip the current face as it's the same as the current face\n",
    "            shared_edge = list(set(face) & set(neighbor_face))  # Find the shared edge between faces\n",
    "            if len(shared_edge) == 2:\n",
    "                v0_neighbor = list(set(neighbor_face) - set(shared_edge))[0]\n",
    "\n",
    "                # Add arcs joining the current vertex to the vertex v0 belonging to the neighbor face\n",
    "                weighted_graph.add_edge(tuple(mesh_vertices[v0]), tuple(mesh_vertices[v0_neighbor]), \n",
    "                                        weight=compute_geodesic_distance(mesh_vertices[v0], mesh_vertices[v0_neighbor]))\n",
    "\n",
    "    return weighted_graph\n",
    "\n",
    "# Example usage:\n",
    "mesh_file_path = \"data/bunny.off\"  # Replace with the path to your mesh file\n",
    "# Build the weighted graph from the mesh file\n",
    "graph = build_weighted_graph_from_mesh(mesh_file_path)\n",
    "\n",
    "# Print the nodes and edges with their weights\n",
    "print(\"Nodes in the graph:\", graph.nodes())\n",
    "print(\"Edges in the graph with weights:\")\n",
    "for u, v, weight in graph.edges(data='weight'):\n",
    "    print(f\"Edge: {u} - {v}, Weight: {weight}\")"
   ]
  },
  {
   "cell_type": "code",
   "execution_count": null,
   "id": "840f738e-0b45-420f-9736-b972f597f9b1",
   "metadata": {},
   "outputs": [],
   "source": [
    "from collections import deque\n",
    "\n",
    "# Function to compute geodesic distances using SLF-LLL algorithm\n",
    "def shortest_paths(graph, sources):\n",
    "    distances = {vertex: float('inf') for vertex in graph.nodes}\n",
    "    queue = deque()\n",
    "\n",
    "    # Add all sources to the queue with distance 0\n",
    "    for source in sources:\n",
    "        queue.appendleft(source)\n",
    "        distances[source] = 0\n",
    "\n",
    "    while queue:\n",
    "        current_vertex = queue.pop()\n",
    "\n",
    "        for neighbor in graph.neighbors(current_vertex):\n",
    "            new_distance = distances[current_vertex] + graph[current_vertex][neighbor]['weight']\n",
    "            if new_distance < distances[neighbor]:\n",
    "                distances[neighbor] = new_distance\n",
    "                if new_distance < distances[queue[-1]] if queue else False:\n",
    "                    queue.append(neighbor)\n",
    "                else:\n",
    "                    queue.appendleft(neighbor)\n",
    "\n",
    "    return distances\n",
    "\n",
    "sources = [(-0.5, -0.5, 0.5), (0.5, -0.5, 0.5), (-0.5, 0.5, 0.5), (0.5, 0.5, 0.5), (-0.5, 0.5, -0.5), (0.5, 0.5, -0.5), (-0.5, -0.5, -0.5), (0.5, -0.5, -0.5)]\n",
    "\n",
    "distances_dict = shortest_paths(graph,sources)"
   ]
  },
  {
   "cell_type": "code",
   "execution_count": 55,
   "id": "ea836034-062a-4aba-90bc-fd0319c27869",
   "metadata": {},
   "outputs": [
    {
     "name": "stdout",
     "output_type": "stream",
     "text": [
      "Invalid color array given! Supported are numpy arrays. <class 'dict'>\n"
     ]
    },
    {
     "data": {
      "application/vnd.jupyter.widget-view+json": {
       "model_id": "d414c7cd1c5449cfbdd14d75a7a3c6f4",
       "version_major": 2,
       "version_minor": 0
      },
      "text/plain": [
       "Renderer(camera=PerspectiveCamera(children=(DirectionalLight(color='white', intensity=0.6, position=(0.0, 0.0,…"
      ]
     },
     "metadata": {},
     "output_type": "display_data"
    },
    {
     "ename": "AttributeError",
     "evalue": "'Viewer' object has no attribute 'show'",
     "output_type": "error",
     "traceback": [
      "\u001b[1;31m---------------------------------------------------------------------------\u001b[0m",
      "\u001b[1;31mAttributeError\u001b[0m                            Traceback (most recent call last)",
      "\u001b[1;32m<ipython-input-55-a9777cfa24c6>\u001b[0m in \u001b[0;36m<module>\u001b[1;34m\u001b[0m\n\u001b[0;32m      1\u001b[0m \u001b[0mplt\u001b[0m\u001b[1;33m.\u001b[0m\u001b[0mfigure\u001b[0m\u001b[1;33m(\u001b[0m\u001b[0mfigsize\u001b[0m\u001b[1;33m=\u001b[0m\u001b[1;33m(\u001b[0m\u001b[1;36m8\u001b[0m\u001b[1;33m,\u001b[0m \u001b[1;36m6\u001b[0m\u001b[1;33m)\u001b[0m\u001b[1;33m)\u001b[0m\u001b[1;33m\u001b[0m\u001b[1;33m\u001b[0m\u001b[0m\n\u001b[0;32m      2\u001b[0m \u001b[0mviewer\u001b[0m \u001b[1;33m=\u001b[0m \u001b[0mmp\u001b[0m\u001b[1;33m.\u001b[0m\u001b[0mplot\u001b[0m\u001b[1;33m(\u001b[0m\u001b[0mcube_v\u001b[0m\u001b[1;33m,\u001b[0m \u001b[0mcube_f\u001b[0m\u001b[1;33m,\u001b[0m \u001b[0mc\u001b[0m\u001b[1;33m=\u001b[0m\u001b[0mdistances_dict\u001b[0m\u001b[1;33m)\u001b[0m\u001b[1;33m\u001b[0m\u001b[1;33m\u001b[0m\u001b[0m\n\u001b[1;32m----> 3\u001b[1;33m \u001b[0mviewer\u001b[0m\u001b[1;33m.\u001b[0m\u001b[0mshow\u001b[0m\u001b[1;33m(\u001b[0m\u001b[1;33m)\u001b[0m\u001b[1;33m\u001b[0m\u001b[1;33m\u001b[0m\u001b[0m\n\u001b[0m",
      "\u001b[1;31mAttributeError\u001b[0m: 'Viewer' object has no attribute 'show'"
     ]
    },
    {
     "data": {
      "text/plain": [
       "<Figure size 576x432 with 0 Axes>"
      ]
     },
     "metadata": {},
     "output_type": "display_data"
    }
   ],
   "source": [
    "plt.figure(figsize=(8, 6))\n",
    "viewer = mp.plot(cube_v, cube_f, c=distances_dict)"
   ]
  }
 ],
 "metadata": {
  "kernelspec": {
   "display_name": "Python 3",
   "language": "python",
   "name": "python3"
  },
  "language_info": {
   "codemirror_mode": {
    "name": "ipython",
    "version": 3
   },
   "file_extension": ".py",
   "mimetype": "text/x-python",
   "name": "python",
   "nbconvert_exporter": "python",
   "pygments_lexer": "ipython3",
   "version": "3.8.8"
  }
 },
 "nbformat": 4,
 "nbformat_minor": 5
}
