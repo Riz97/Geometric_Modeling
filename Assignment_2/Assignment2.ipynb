{
 "cells": [
  {
   "cell_type": "code",
   "execution_count": 1,
   "metadata": {
    "scrolled": true
   },
   "outputs": [],
   "source": [
    "import numpy as np\n",
    "import igl\n",
    "import meshplot as mp"
   ]
  },
  {
   "cell_type": "markdown",
   "metadata": {},
   "source": [
    "# Reading point cloud"
   ]
  },
  {
   "cell_type": "code",
   "execution_count": 2,
   "metadata": {},
   "outputs": [
    {
     "data": {
      "application/vnd.jupyter.widget-view+json": {
       "model_id": "d5df5d80b7664f8caacd7f955c4b02ff",
       "version_major": 2,
       "version_minor": 0
      },
      "text/plain": [
       "Renderer(camera=PerspectiveCamera(children=(DirectionalLight(color='white', intensity=0.6, position=(5.0, -23.…"
      ]
     },
     "metadata": {},
     "output_type": "display_data"
    },
    {
     "data": {
      "text/plain": [
       "<meshplot.Viewer.Viewer at 0x20aff0b5e20>"
      ]
     },
     "execution_count": 2,
     "metadata": {},
     "output_type": "execute_result"
    }
   ],
   "source": [
    "pi, v = igl.read_triangle_mesh(\"data/cat.off\")\n",
    "pi /= 10\n",
    "ni = igl.per_vertex_normals(pi, v)\n",
    "mp.plot(pi, shading={\"point_size\": 8})"
   ]
  },
  {
   "cell_type": "markdown",
   "metadata": {},
   "source": [
    "# Setting up  the constraints"
   ]
  },
  {
   "cell_type": "code",
   "execution_count": 3,
   "metadata": {},
   "outputs": [],
   "source": [
    "\n",
    "\n",
    "#Function that retrieves the index of the closest point to 'point' in 'points'\n",
    "#Use KD-Tree algorithm to find the nearest neighbor\n",
    "from scipy.spatial import KDTree \n",
    "tree = KDTree(pi,leafsize = pi.shape[0] +1)  # leafsize is the number of points at which to switch to brute force\n",
    "\n",
    "def find_closed_point(point,points):\n",
    "    dist , ind = tree.query([point],k = 1) #k is the number of neighbors to return , and point is the array of points to query\n",
    "    return ind #Each entry gives the list of indices of neighbors of the corresponding point "
   ]
  },
  {
   "cell_type": "code",
   "execution_count": 4,
   "metadata": {},
   "outputs": [],
   "source": [
    "# Add here the code to generate the additional points and constraints\n",
    "\n",
    "def Constraints(pi,n):\n",
    "    size = pi.shape[0] #366 points\n",
    "    constrained_pi , constrained_v  = np.zeros((size*3 , 3)) , np.zeros((size*3))\n",
    "    print(constrained_pi)\n",
    "    print(constrained_v)\n",
    "    print(constrained_v.shape)\n",
    "    for i in range(size):\n",
    "        eps = 0.01 * igl.bounding_box_diagonal(pi)# Fix an eps value \n",
    "        eps_plus = eps\n",
    "        eps_minus = eps\n",
    "        #for each point in the point cloud , add a costraint of the form f(pi)= di = o\n",
    "        constrained_pi[i]= pi[i]\n",
    "        constrained_v[i] = 0\n",
    "        #for each point , compute p_i+N = p_i + eps * n_i\n",
    "        #where n_i is the normalized normal at p_i.\n",
    "        constrained_pi[i+size] =  constrained_pi[i] + eps * n[i]\n",
    "        #Check that p_i is the closest point to p_i+N\n",
    "        if(find_closed_point(constrained_pi[i+size],pi)) !=i:\n",
    "        #If not , halve eps and recompute p_i+N until this is the case\n",
    "            eps_plus = eps/2\n",
    "        constrained_pi[i+size] =  constrained_pi[i] + eps_plus * n[i]\n",
    "        #Then, add another constraint equation f(p_i+N) = d_i+N = eps\n",
    "        constrained_v[i+size] = eps_plus\n",
    "        \n",
    "        #Repeat the same process for eps_minus\n",
    "        \n",
    "        constrained_pi[i + 2*size] = constrained_pi[i] - eps * n[i]\n",
    "        #Remember to check each time that p_i is the closest point to p_i+2N\n",
    "        \n",
    "        if(find_closed_point(constrained_pi[i+size*2], pi)) != i:\n",
    "            eps_minus = eps/2\n",
    "        \n",
    "        constrained_pi[i+ 2*size] = constrained_pi[i] - eps * n[i]\n",
    "        #add an equation f(P_i+2N) = d_i+2N = eps_minus\n",
    "        constrained_v[i+2*size] = -eps_minus\n",
    "    \n",
    "    return constrained_pi,constrained_v"
   ]
  },
  {
   "cell_type": "code",
   "execution_count": 5,
   "metadata": {},
   "outputs": [
    {
     "name": "stdout",
     "output_type": "stream",
     "text": [
      "[[0. 0. 0.]\n",
      " [0. 0. 0.]\n",
      " [0. 0. 0.]\n",
      " ...\n",
      " [0. 0. 0.]\n",
      " [0. 0. 0.]\n",
      " [0. 0. 0.]]\n",
      "[0. 0. 0. ... 0. 0. 0.]\n",
      "(1098,)\n"
     ]
    }
   ],
   "source": [
    "constrained_pi , constrained_v = Constraints(pi,ni)"
   ]
  },
  {
   "cell_type": "code",
   "execution_count": 6,
   "metadata": {},
   "outputs": [],
   "source": [
    "#let's build a color map for a better visualization\n",
    "color_map = np.zeros(constrained_pi.shape)\n",
    "size = pi.shape[0]\n",
    "color_map[0:size] = np.array([1,0,0])\n",
    "color_map[size:size*2] = np.array([0,0,1])\n",
    "color_map[size*2:size*3]= np.array([0,1,0])"
   ]
  },
  {
   "cell_type": "code",
   "execution_count": 7,
   "metadata": {},
   "outputs": [
    {
     "data": {
      "application/vnd.jupyter.widget-view+json": {
       "model_id": "bb01980d467b4fe4941420f5ed5b4319",
       "version_major": 2,
       "version_minor": 0
      },
      "text/plain": [
       "Renderer(camera=PerspectiveCamera(children=(DirectionalLight(color='white', intensity=0.6, position=(5.0120944…"
      ]
     },
     "metadata": {},
     "output_type": "display_data"
    },
    {
     "data": {
      "text/plain": [
       "<meshplot.Viewer.Viewer at 0x20a8026f700>"
      ]
     },
     "execution_count": 7,
     "metadata": {},
     "output_type": "execute_result"
    }
   ],
   "source": [
    "mp.plot(constrained_pi,c = color_map,shading={\"point_size\": 8})"
   ]
  },
  {
   "cell_type": "markdown",
   "metadata": {},
   "source": [
    "# Create a grid sampling the 3D space"
   ]
  },
  {
   "cell_type": "code",
   "execution_count": 8,
   "metadata": {
    "scrolled": true
   },
   "outputs": [],
   "source": [
    "# Utility function to generate a tet grid\n",
    "# n is a 3-tuple with the number of cell in every direction\n",
    "# mmin/mmax are the grid bounding box corners\n",
    "\n",
    "def tet_grid(n, mmin, mmax):\n",
    "    nx = n[0]\n",
    "    ny = n[1]\n",
    "    nz = n[2]\n",
    "    \n",
    "    delta = mmax-mmin\n",
    "    \n",
    "    deltax = delta[0]/(nx-1)\n",
    "    deltay = delta[1]/(ny-1)\n",
    "    deltaz = delta[2]/(nz-1)\n",
    "    \n",
    "    T = np.zeros(((nx-1)*(ny-1)*(nz-1)*6, 4), dtype=np.int64)\n",
    "    V = np.zeros((nx*ny*nz, 3))\n",
    "\n",
    "    mapping = -np.ones((nx, ny, nz), dtype=np.int64)\n",
    "\n",
    "\n",
    "    index = 0\n",
    "    for i in range(nx):\n",
    "        for j in range(ny):\n",
    "            for k in range(nz):\n",
    "                mapping[i, j, k] = index\n",
    "                V[index, :] = [i*deltax, j*deltay, k*deltaz]\n",
    "                index += 1\n",
    "    assert(index == V.shape[0])\n",
    "    \n",
    "    tets = np.array([\n",
    "        [0,1,3,4],\n",
    "        [5,2,6,7],\n",
    "        [4,1,5,3],\n",
    "        [4,3,7,5],\n",
    "        [3,1,5,2],\n",
    "        [2,3,7,5]\n",
    "    ])\n",
    "    \n",
    "    index = 0\n",
    "    for i in range(nx-1):\n",
    "        for j in range(ny-1):\n",
    "            for k in range(nz-1):\n",
    "                indices = [\n",
    "                    (i,   j,   k),\n",
    "                    (i+1, j,   k),\n",
    "                    (i+1, j+1, k),\n",
    "                    (i,   j+1, k),\n",
    "\n",
    "                    (i,   j,   k+1),\n",
    "                    (i+1, j,   k+1),\n",
    "                    (i+1, j+1, k+1),\n",
    "                    (i,   j+1, k+1),\n",
    "                ]\n",
    "                \n",
    "                for t in range(tets.shape[0]):\n",
    "                    tmp = [mapping[indices[ii]] for ii in tets[t, :]]\n",
    "                    T[index, :]=tmp\n",
    "                    index += 1\n",
    "                    \n",
    "    assert(index == T.shape[0])\n",
    "    \n",
    "    V += mmin\n",
    "    return V, T"
   ]
  },
  {
   "cell_type": "markdown",
   "metadata": {},
   "source": [
    "# MLS function"
   ]
  },
  {
   "cell_type": "code",
   "execution_count": 9,
   "metadata": {},
   "outputs": [],
   "source": [
    "# This is mockup code, generating the distance field from the surface of the unit sphere in analytic form\n",
    "# The code is provided to show the desired visualization\n",
    "# Use tet_grid to generate the grid appropriate to your data\n",
    "# Generate function fx at all nodes of the grid by evaluating the MLS function"
   ]
  },
  {
   "cell_type": "code",
   "execution_count": 10,
   "metadata": {},
   "outputs": [],
   "source": [
    "#Wendland weighs\n",
    "def Wendland(r,h):\n",
    "    if r < h:\n",
    "        return ((1-r/h)**4)*(4 * r / h + 1)\n",
    "    else:\n",
    "        return 0"
   ]
  },
  {
   "cell_type": "code",
   "execution_count": 11,
   "metadata": {},
   "outputs": [],
   "source": [
    "#Function that retrieves the indices  of all points in 'points' that are at distance less than h from point\n",
    "def closest_points(point,points,h):\n",
    "    res = [] #variable where we store the indices\n",
    "    #component of the point we are considering\n",
    "    x = point[0]\n",
    "    y = point[1]\n",
    "    z = point[2]\n",
    "    \n",
    "    # scan for every point\n",
    "    \n",
    "    for i in range(points.shape[0]):\n",
    "        relx = points[i][0]\n",
    "        rely = points[i][1]\n",
    "        relz = points[i][2]\n",
    "        \n",
    "        #squared euclidean distance\n",
    "        d = (relx - x)**2 + (rely - y)**2 + (relz - z)**2\n",
    "        if d < h**2:\n",
    "            res.append(i)\n",
    "    \n",
    "    \n",
    "    return res"
   ]
  },
  {
   "cell_type": "code",
   "execution_count": 12,
   "metadata": {},
   "outputs": [],
   "source": [
    "#Degree k = 0,1,2 polynomial basis function\n",
    "def polyDegree(degree,x):\n",
    "    \n",
    "    basis = {\n",
    "        0 : np.array([1],dtype = object),\n",
    "        1 : np.array([1,x[0],x[1],x[2]],dtype = object),\n",
    "        2 : np.array([1,x[0],x[1],x[2],\n",
    "                    x[0] * x[1], x[0] * x[2], x[1] * x[2],\n",
    "                    x[0]**2,x[1]**2,x[2]**2],dtype = object)\n",
    "    }\n",
    "    \n",
    "    #choose the array based on the degree we got in input\n",
    "    return basis.get(degree) "
   ]
  },
  {
   "cell_type": "code",
   "execution_count": 13,
   "metadata": {},
   "outputs": [
    {
     "name": "stdout",
     "output_type": "stream",
     "text": [
      "[1 1 2 3]\n"
     ]
    }
   ],
   "source": [
    "#test\n",
    "a = [1,2,3]\n",
    "print(polyDegree(1,a))"
   ]
  },
  {
   "cell_type": "code",
   "execution_count": 14,
   "metadata": {},
   "outputs": [
    {
     "name": "stdout",
     "output_type": "stream",
     "text": [
      "[-22.7 -63.7 -99. ]\n"
     ]
    }
   ],
   "source": [
    "#Parameters\n",
    "bbox_min = np.min(pi,axis = 0) #take the min point with all its components\n",
    "bbox_max = np.max(pi,axis = 0) # take the max point with all its components\n",
    "bbox_diag = np.linalg.norm(bbox_max - bbox_min)\n",
    "print(bbox_min)\n",
    "n = 10"
   ]
  },
  {
   "cell_type": "code",
   "execution_count": 15,
   "metadata": {},
   "outputs": [],
   "source": [
    "#At a give point xi in x , it finds the optimal basis function coefficients(which will vary from point to point)\n",
    "# and using these to combine the basis function values at xi\n",
    "\n",
    "#xi is the point, wendlandRadius is the h in closest_points function,\n",
    "def MLS(xi,wendlandRadius,poly_degree,constrained_pi,constrained_v):\n",
    "    \n",
    "    #polynomnial coefficients taken based on the degree\n",
    "    if poly_degree == 0:\n",
    "        coefficient = 1\n",
    "    \n",
    "    if poly_degree == 1:\n",
    "        coefficient = 4\n",
    "    \n",
    "    if poly_degree == 2:\n",
    "        coefficient = 10\n",
    "    \n",
    "    #use only constraint point with non zero weight ( distance < wendlandRadius)\n",
    "    idxCls = closest_points(xi,constrained_pi,wendlandRadius)\n",
    "    \n",
    "    #if the number of constraintt points is less than twice the number of polynomial coefficients\n",
    "    #assign a large positive outside value to the grid point\n",
    "    if len(idxCls) < 2 * coefficient:\n",
    "        return 10000000\n",
    "    else:\n",
    "        \n",
    "        #(B.T * W * B) a(x) = (B.T * W * d)\n",
    "        \n",
    "        #B , size n(the number of points with non-zero weight for x \n",
    "        #x k(number of coefficient in the basis) from the coordinates of such points\n",
    "        B = np.zeros((len(idxCls),coefficient))\n",
    "        \n",
    "        #Diagonal matrix of size n from the Wendland weights at such points             \n",
    "        W = np.eye(len(idxCls))\n",
    "        \n",
    "        #Vector d of constraint values (0/eps/-eps) corresponding to such points\n",
    "        d = constrained_v[idxCls]\n",
    "                     \n",
    "        p = constrained_pi[idxCls]\n",
    "        \n",
    "        for i in range (len(idxCls)):\n",
    "            \n",
    "            #W matrix is computed using the wendland function , and the norm. For x,y,z component\n",
    "            W[i,i] = Wendland(np.linalg.norm(xi-p[i]),wendlandRadius)\n",
    "            \n",
    "            #Constraint matrix basis\n",
    "            B[i] = polyDegree(poly_degree,p[i])\n",
    "            \n",
    "        #let's find a(x)\n",
    "        \n",
    "        ax = np.linalg.solve(((B.T).dot(W)).dot(B),((B.T).dot(W)).dot(d))\n",
    "        \n",
    "        #implicit function\n",
    "        return polyDegree(poly_degree, xi).dot(ax)"
   ]
  },
  {
   "cell_type": "code",
   "execution_count": 27,
   "metadata": {},
   "outputs": [
    {
     "name": "stdout",
     "output_type": "stream",
     "text": [
      "143.2353308370529\n"
     ]
    }
   ],
   "source": [
    "# Generate grid n x n x n\n",
    "\n",
    "x, T = tet_grid((n, n, n), bbox_min - 0.05 * bbox_diag, bbox_max + 0.05 * bbox_diag)\n",
    "\n",
    "#Compute implicit sphere function\n",
    "center = np.array([0., 0., 0.])\n",
    "print(bbox_diag)\n",
    "radius = bbox_diag * 0.1\n",
    "k = 1\n",
    "#Store the field value fx = f(xi) in a numpy.array, using the same ordering as in x\n",
    "fx = np.array([MLS(xi,radius,k,constrained_pi,constrained_v) for xi in x])"
   ]
  },
  {
   "cell_type": "code",
   "execution_count": 28,
   "metadata": {},
   "outputs": [
    {
     "data": {
      "application/vnd.jupyter.widget-view+json": {
       "model_id": "3ca5718d066e40f294fa86aab4d7d296",
       "version_major": 2,
       "version_minor": 0
      },
      "text/plain": [
       "Renderer(camera=PerspectiveCamera(children=(DirectionalLight(color='white', intensity=0.6, position=(5.0, -23.…"
      ]
     },
     "metadata": {},
     "output_type": "display_data"
    },
    {
     "data": {
      "text/plain": [
       "<meshplot.Viewer.Viewer at 0x20a803156a0>"
      ]
     },
     "execution_count": 28,
     "metadata": {},
     "output_type": "execute_result"
    }
   ],
   "source": [
    "# Treshold fx to visualize inside outside\n",
    "\n",
    "ind = np.zeros_like(fx)\n",
    "ind[fx >= 0] =  1\n",
    "ind[fx < 0] = -1\n",
    "mp.plot(x, c=ind, shading={\"point_size\": 4,\"width\": 800, \"height\": 800})"
   ]
  },
  {
   "cell_type": "markdown",
   "metadata": {},
   "source": [
    "# Marching to extract surface"
   ]
  },
  {
   "cell_type": "code",
   "execution_count": 30,
   "metadata": {},
   "outputs": [
    {
     "data": {
      "application/vnd.jupyter.widget-view+json": {
       "model_id": "b93745b948f4429dbd05e822befd4cc0",
       "version_major": 2,
       "version_minor": 0
      },
      "text/plain": [
       "Renderer(camera=PerspectiveCamera(children=(DirectionalLight(color='white', intensity=0.6, position=(5.6772174…"
      ]
     },
     "metadata": {},
     "output_type": "display_data"
    },
    {
     "data": {
      "text/plain": [
       "<meshplot.Viewer.Viewer at 0x20a80a21f40>"
      ]
     },
     "execution_count": 30,
     "metadata": {},
     "output_type": "execute_result"
    }
   ],
   "source": [
    "# Marcing tet to extract surface\n",
    "\n",
    "sv, sf, _, _ = igl.marching_tets(x, T, fx, 0)\n",
    "mp.plot(sv, sf, shading={\"wireframe\": True})"
   ]
  },
  {
   "cell_type": "code",
   "execution_count": null,
   "metadata": {
    "scrolled": true
   },
   "outputs": [],
   "source": []
  },
  {
   "cell_type": "code",
   "execution_count": null,
   "metadata": {},
   "outputs": [],
   "source": []
  }
 ],
 "metadata": {
  "kernelspec": {
   "display_name": "Python 3 (ipykernel)",
   "language": "python",
   "name": "python3"
  },
  "language_info": {
   "codemirror_mode": {
    "name": "ipython",
    "version": 3
   },
   "file_extension": ".py",
   "mimetype": "text/x-python",
   "name": "python",
   "nbconvert_exporter": "python",
   "pygments_lexer": "ipython3",
   "version": "3.9.12"
  },
  "widgets": {
   "application/vnd.jupyter.widget-state+json": {
    "state": {},
    "version_major": 2,
    "version_minor": 0
   }
  }
 },
 "nbformat": 4,
 "nbformat_minor": 4
}
